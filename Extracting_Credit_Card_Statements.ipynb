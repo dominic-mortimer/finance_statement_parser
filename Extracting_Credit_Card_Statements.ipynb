{
 "cells": [
  {
   "cell_type": "code",
   "execution_count": 1,
   "id": "6426a03d",
   "metadata": {},
   "outputs": [],
   "source": [
    "import tabula"
   ]
  },
  {
   "cell_type": "code",
   "execution_count": 2,
   "id": "56a51f68",
   "metadata": {},
   "outputs": [],
   "source": [
    "# import pdfplumber as pdfp\n",
    "import pandas as pd\n",
    "import numpy as np\n",
    "import warnings\n",
    "import os\n",
    "import time\n",
    "# import tabula\n",
    "\n",
    "warnings.filterwarnings('ignore')"
   ]
  },
  {
   "cell_type": "code",
   "execution_count": 3,
   "id": "504c5fdd",
   "metadata": {},
   "outputs": [
    {
     "name": "stdout",
     "output_type": "stream",
     "text": [
      "\n",
      " What year are you looking to analyze? \n",
      "\n",
      "2022\n",
      "\n",
      " What month are you looking to analyze? (1 - 12) \n",
      "\n",
      "7\n",
      "\n",
      " Processing data for 22-07... \n",
      "\n",
      "Available options: \n",
      "\n",
      "\t (1) Neo - Credit\n",
      "\t (2) RBC - Credit\n",
      "\t (3) RBC - Debit\n",
      "\t (4) Tangerine - Chequing\n",
      "\t (5) Tangerine - Savings\n",
      "\n",
      " Select the number of the option you'd like to add (or press enter to continue)\n",
      "\n",
      "2\n",
      "\n",
      " Select the number of the option you'd like to add (or press enter to continue)\n",
      "\n",
      "\n"
     ]
    }
   ],
   "source": [
    "###################################################################################################################\n",
    "# Get the year and month that the user wants to analyze\n",
    "###################################################################################################################\n",
    "\n",
    "# clear the screen and get the input\n",
    "os.system('cls' if os.name == 'nt' else 'clear')\n",
    "\n",
    "year_ = input('\\n What year are you looking to analyze? \\n\\n')\n",
    "assert int(year_) in (2021, 2022), 'Invalid year entered'\n",
    "month_ = input('\\n What month are you looking to analyze? (1 - 12) \\n\\n')\n",
    "assert int(month_) in list(np.arange(1, 13)), 'Invalid month entered'\n",
    "\n",
    "# re-structure the input in such a way that we can use it\n",
    "if int(month_) < 10:\n",
    "    month_ = '0' + month_\n",
    "str_month = year_[-2:] + '-' + month_\n",
    "\n",
    "print(f'\\n Processing data for {str_month}... \\n')\n",
    "# time.sleep(1.01)\n",
    "\n",
    "###################################################################################################################\n",
    "# Get the statement types we want to analyze\n",
    "###################################################################################################################\n",
    "\n",
    "statements = {1 : '(1) Neo - Credit',\n",
    "              2 : '(2) RBC - Credit',\n",
    "              3 : '(3) RBC - Debit',\n",
    "              4 : '(4) Tangerine - Chequing',\n",
    "              5 : '(5) Tangerine - Savings'}\n",
    "\n",
    "# clear the screen and print the statements available to analyze\n",
    "os.system('cls' if os.name == 'nt' else 'clear')\n",
    "\n",
    "print('Available options: ', end='\\n\\n')\n",
    "for i in statements:\n",
    "    print('\\t', statements[i])\n",
    "\n",
    "# time.sleep(1.01)\n",
    "    \n",
    "# ask the user which statements they want to analyze\n",
    "selected_options = []\n",
    "option = ''\n",
    "while len(selected_options) != 5:\n",
    "    \n",
    "    option = input(\"\\n Select the number of the option you'd like to add (or press enter to continue)\\n\\n\")\n",
    "    if option == '':\n",
    "        break\n",
    "    assert int(option) in (1, 2, 3, 4, 5) and int(option) not in selected_options, 'Invalid year entered'\n",
    "    selected_options.append(' '.join(statements[int(option)].split(' ')[1:]))\n",
    "\n",
    "    "
   ]
  },
  {
   "cell_type": "code",
   "execution_count": 9,
   "id": "95421273",
   "metadata": {},
   "outputs": [
    {
     "data": {
      "text/plain": [
       "'RBC - Credit'"
      ]
     },
     "execution_count": 9,
     "metadata": {},
     "output_type": "execute_result"
    }
   ],
   "source": [
    "statement_type = selected_options[0]\n",
    "statement_type"
   ]
  },
  {
   "cell_type": "code",
   "execution_count": 10,
   "id": "e050c367",
   "metadata": {},
   "outputs": [],
   "source": [
    "statement_type = 'RBC - Debit'"
   ]
  },
  {
   "cell_type": "code",
   "execution_count": 11,
   "id": "6f1b991b",
   "metadata": {
    "scrolled": true
   },
   "outputs": [
    {
     "name": "stderr",
     "output_type": "stream",
     "text": [
      "'pages' argument isn't specified.Will extract only from page 1 by default.\n"
     ]
    },
    {
     "data": {
      "text/html": [
       "<div>\n",
       "<style scoped>\n",
       "    .dataframe tbody tr th:only-of-type {\n",
       "        vertical-align: middle;\n",
       "    }\n",
       "\n",
       "    .dataframe tbody tr th {\n",
       "        vertical-align: top;\n",
       "    }\n",
       "\n",
       "    .dataframe thead th {\n",
       "        text-align: right;\n",
       "    }\n",
       "</style>\n",
       "<table border=\"1\" class=\"dataframe\">\n",
       "  <thead>\n",
       "    <tr style=\"text-align: right;\">\n",
       "      <th></th>\n",
       "      <th>29 Jun</th>\n",
       "      <th>Payroll Deposit Wave PYRL</th>\n",
       "      <th>Unnamed: 0</th>\n",
       "      <th>Unnamed: 1</th>\n",
       "      <th>1,886.89</th>\n",
       "      <th>3,366.02</th>\n",
       "    </tr>\n",
       "  </thead>\n",
       "  <tbody>\n",
       "    <tr>\n",
       "      <th>0</th>\n",
       "      <td>30 Jun</td>\n",
       "      <td>Online Banking transfer - 8885</td>\n",
       "      <td>NaN</td>\n",
       "      <td>636.61</td>\n",
       "      <td>NaN</td>\n",
       "      <td>2,729.41</td>\n",
       "    </tr>\n",
       "    <tr>\n",
       "      <th>1</th>\n",
       "      <td>4 Jul</td>\n",
       "      <td>Interac purchase - 3330 GRACE CONVENIEN</td>\n",
       "      <td>NaN</td>\n",
       "      <td>7.01</td>\n",
       "      <td>NaN</td>\n",
       "      <td>2,722.40</td>\n",
       "    </tr>\n",
       "    <tr>\n",
       "      <th>2</th>\n",
       "      <td>NaN</td>\n",
       "      <td>Misc Payment Questrade Inc</td>\n",
       "      <td>NaN</td>\n",
       "      <td>300.00</td>\n",
       "      <td>NaN</td>\n",
       "      <td>NaN</td>\n",
       "    </tr>\n",
       "    <tr>\n",
       "      <th>3</th>\n",
       "      <td>NaN</td>\n",
       "      <td>e-Transfer sent Victoria Rumboldt</td>\n",
       "      <td>NaN</td>\n",
       "      <td>1,700.00</td>\n",
       "      <td>NaN</td>\n",
       "      <td>722.40</td>\n",
       "    </tr>\n",
       "    <tr>\n",
       "      <th>4</th>\n",
       "      <td>5 Jul</td>\n",
       "      <td>e-Transfer received WSNCC</td>\n",
       "      <td>NaN</td>\n",
       "      <td>NaN</td>\n",
       "      <td>195.0</td>\n",
       "      <td>917.40</td>\n",
       "    </tr>\n",
       "    <tr>\n",
       "      <th>5</th>\n",
       "      <td>NaN</td>\n",
       "      <td>GST CANADA</td>\n",
       "      <td>NaN</td>\n",
       "      <td>NaN</td>\n",
       "      <td>108.6</td>\n",
       "      <td>1,026.00</td>\n",
       "    </tr>\n",
       "    <tr>\n",
       "      <th>6</th>\n",
       "      <td>6 Jul</td>\n",
       "      <td>Online Banking transfer - 9122</td>\n",
       "      <td>NaN</td>\n",
       "      <td>351.14</td>\n",
       "      <td>NaN</td>\n",
       "      <td>674.86</td>\n",
       "    </tr>\n",
       "    <tr>\n",
       "      <th>7</th>\n",
       "      <td>8 Jul</td>\n",
       "      <td>Prov/Local Gvt Payment CANADA</td>\n",
       "      <td>NaN</td>\n",
       "      <td>NaN</td>\n",
       "      <td>324.0</td>\n",
       "      <td>998.86</td>\n",
       "    </tr>\n",
       "  </tbody>\n",
       "</table>\n",
       "</div>"
      ],
      "text/plain": [
       "   29 Jun                Payroll Deposit Wave PYRL  Unnamed: 0 Unnamed: 1  \\\n",
       "0  30 Jun           Online Banking transfer - 8885         NaN     636.61   \n",
       "1   4 Jul  Interac purchase - 3330 GRACE CONVENIEN         NaN       7.01   \n",
       "2     NaN               Misc Payment Questrade Inc         NaN     300.00   \n",
       "3     NaN        e-Transfer sent Victoria Rumboldt         NaN   1,700.00   \n",
       "4   5 Jul                e-Transfer received WSNCC         NaN        NaN   \n",
       "5     NaN                               GST CANADA         NaN        NaN   \n",
       "6   6 Jul           Online Banking transfer - 9122         NaN     351.14   \n",
       "7   8 Jul            Prov/Local Gvt Payment CANADA         NaN        NaN   \n",
       "\n",
       "   1,886.89  3,366.02  \n",
       "0       NaN  2,729.41  \n",
       "1       NaN  2,722.40  \n",
       "2       NaN       NaN  \n",
       "3       NaN    722.40  \n",
       "4     195.0    917.40  \n",
       "5     108.6  1,026.00  \n",
       "6       NaN    674.86  \n",
       "7     324.0    998.86  "
      ]
     },
     "execution_count": 11,
     "metadata": {},
     "output_type": "execute_result"
    }
   ],
   "source": [
    "file = f'Statements/{statement_type}/{str_month}.pdf'\n",
    "\n",
    "test = tabula.read_pdf(file)\n",
    "test[0]"
   ]
  },
  {
   "cell_type": "code",
   "execution_count": 71,
   "id": "3a419bbe",
   "metadata": {},
   "outputs": [
    {
     "name": "stdout",
     "output_type": "stream",
     "text": [
      "\n",
      " What year are you looking to analyze? \n",
      "\n",
      "2022\n",
      "\n",
      " What month are you looking to analyze? (1 - 12) \n",
      "\n",
      "7\n",
      "\n",
      " Processing data for 22-07... \n",
      "\n",
      "Available options: \n",
      "\n",
      "\t (1) Neo - Credit\n",
      "\t (2) RBC - Credit\n",
      "\t (3) RBC - Debit\n",
      "\t (4) Tangerine - Chequing\n",
      "\t (5) Tangerine - Savings\n",
      "\n",
      " Select the number of the option you'd like to add (or press enter to continue)\n",
      "\n",
      "3\n",
      "\n",
      " Select the number of the option you'd like to add (or press enter to continue)\n",
      "\n",
      "\n"
     ]
    }
   ],
   "source": [
    "###################################################################################################################\n",
    "# loop through the statements and parse out the important information\n",
    "###################################################################################################################    \n",
    "\n",
    "for statement_type in selected_options:    \n",
    "\n",
    "    pages = []\n",
    "    \n",
    "    # open pdf statement, read each page and extract the text line by line, save results\n",
    "    with pdfp.open(f'Statements/{statement_type}/{str_month}.pdf') as pdf:\n",
    "\n",
    "        for page in pdf.pages:\n",
    "            pages.append(page.extract_text().split('\\n'))\n",
    "\n",
    "        for i, page in enumerate(pages):\n",
    "            if i == 0:\n",
    "                df = pd.DataFrame(page, columns=['text'])\n",
    "            else:\n",
    "                new_df = pd.DataFrame(page, columns=['text'])\n",
    "                df = pd.concat([df, new_df])"
   ]
  },
  {
   "cell_type": "code",
   "execution_count": 59,
   "id": "2c3fc042",
   "metadata": {},
   "outputs": [],
   "source": [
    "pd.set_option('max_colwidth', None)"
   ]
  },
  {
   "cell_type": "code",
   "execution_count": 70,
   "id": "e2c05a4f",
   "metadata": {},
   "outputs": [
    {
     "data": {
      "text/html": [
       "<div>\n",
       "<style scoped>\n",
       "    .dataframe tbody tr th:only-of-type {\n",
       "        vertical-align: middle;\n",
       "    }\n",
       "\n",
       "    .dataframe tbody tr th {\n",
       "        vertical-align: top;\n",
       "    }\n",
       "\n",
       "    .dataframe thead th {\n",
       "        text-align: right;\n",
       "    }\n",
       "</style>\n",
       "<table border=\"1\" class=\"dataframe\">\n",
       "  <thead>\n",
       "    <tr style=\"text-align: right;\">\n",
       "      <th></th>\n",
       "      <th>text</th>\n",
       "    </tr>\n",
       "  </thead>\n",
       "  <tbody>\n",
       "    <tr>\n",
       "      <th>0</th>\n",
       "      <td>RBC® Avion® Visa PlatinumJ</td>\n",
       "    </tr>\n",
       "    <tr>\n",
       "      <th>1</th>\n",
       "      <td>DOMINICMORTIMER 451409******9415</td>\n",
       "    </tr>\n",
       "    <tr>\n",
       "      <th>2</th>\n",
       "      <td>STATEMENTFROMJUN28TOJUL26,2022</td>\n",
       "    </tr>\n",
       "    <tr>\n",
       "      <th>3</th>\n",
       "      <td>1OF3</td>\n",
       "    </tr>\n",
       "    <tr>\n",
       "      <th>4</th>\n",
       "      <td>PREVIOUSACCOUNTBALANCE $74.91 IMPORTANTINFORMATION</td>\n",
       "    </tr>\n",
       "    <tr>\n",
       "      <th>5</th>\n",
       "      <td>RBCREWARDSPOINTS</td>\n",
       "    </tr>\n",
       "    <tr>\n",
       "      <th>6</th>\n",
       "      <td>DOMINICMORTIMER PreviousPointsbalance 58,167</td>\n",
       "    </tr>\n",
       "    <tr>\n",
       "      <th>7</th>\n",
       "      <td>451409******9415-PRIMARY Pointsearnedthisstatement 1,818</td>\n",
       "    </tr>\n",
       "    <tr>\n",
       "      <th>8</th>\n",
       "      <td>TRANSACTION POSTING ACTIVITYDESCRIPTION AMOUNT($) Newpointsbalance 59,985</td>\n",
       "    </tr>\n",
       "    <tr>\n",
       "      <th>9</th>\n",
       "      <td>DATE DATE</td>\n",
       "    </tr>\n",
       "    <tr>\n",
       "      <th>10</th>\n",
       "      <td>JUN26 JUN28 TIMHORTONS#2924CAMBRIDGEON $4.54 CONTACTUS</td>\n",
       "    </tr>\n",
       "    <tr>\n",
       "      <th>11</th>\n",
       "      <td>74703412178100289211316 CustomerService/Lost&amp;Stolen 1-800-769-2512</td>\n",
       "    </tr>\n",
       "    <tr>\n",
       "      <th>12</th>\n",
       "      <td>JUN27 JUN28 BESTSELLERECOMCANADAINMONTREALQC $276.85 CollectOutsideNorthAmerica (416)974-7780</td>\n",
       "    </tr>\n",
       "    <tr>\n",
       "      <th>13</th>\n",
       "      <td>74099862178288713674940 RewardsWebsite rbcrewards.com</td>\n",
       "    </tr>\n",
       "    <tr>\n",
       "      <th>14</th>\n",
       "      <td>JUN27 JUN28 FIDOMOBILE******9782888-481-3436ON $67.80</td>\n",
       "    </tr>\n",
       "    <tr>\n",
       "      <th>15</th>\n",
       "      <td>74537882178100423798638 PAYMENTS&amp;INTERESTRATES</td>\n",
       "    </tr>\n",
       "    <tr>\n",
       "      <th>16</th>\n",
       "      <td>JUN27 JUN29 THEHOMEDEPOT#7166CAMBRIDGEON $30.48 Minimumpayment $10.00</td>\n",
       "    </tr>\n",
       "    <tr>\n",
       "      <th>17</th>\n",
       "      <td>74522812179004035150951 Paymentduedate AUG16,2022</td>\n",
       "    </tr>\n",
       "    <tr>\n",
       "      <th>18</th>\n",
       "      <td>JUN27 JUN29 THEBEERSTORE#4162CAMBRIDGEON $148.85 Creditlimit $17,000.00</td>\n",
       "    </tr>\n",
       "    <tr>\n",
       "      <th>19</th>\n",
       "      <td>74529002178920115756007 Availablecredit $16,810.56</td>\n",
       "    </tr>\n",
       "  </tbody>\n",
       "</table>\n",
       "</div>"
      ],
      "text/plain": [
       "                                                                                             text\n",
       "0                                                                      RBC® Avion® Visa PlatinumJ\n",
       "1                                                                DOMINICMORTIMER 451409******9415\n",
       "2                                                                  STATEMENTFROMJUN28TOJUL26,2022\n",
       "3                                                                                            1OF3\n",
       "4                                              PREVIOUSACCOUNTBALANCE $74.91 IMPORTANTINFORMATION\n",
       "5                                                                                RBCREWARDSPOINTS\n",
       "6                                                    DOMINICMORTIMER PreviousPointsbalance 58,167\n",
       "7                                        451409******9415-PRIMARY Pointsearnedthisstatement 1,818\n",
       "8                       TRANSACTION POSTING ACTIVITYDESCRIPTION AMOUNT($) Newpointsbalance 59,985\n",
       "9                                                                                       DATE DATE\n",
       "10                                         JUN26 JUN28 TIMHORTONS#2924CAMBRIDGEON $4.54 CONTACTUS\n",
       "11                             74703412178100289211316 CustomerService/Lost&Stolen 1-800-769-2512\n",
       "12  JUN27 JUN28 BESTSELLERECOMCANADAINMONTREALQC $276.85 CollectOutsideNorthAmerica (416)974-7780\n",
       "13                                          74099862178288713674940 RewardsWebsite rbcrewards.com\n",
       "14                                          JUN27 JUN28 FIDOMOBILE******9782888-481-3436ON $67.80\n",
       "15                                                 74537882178100423798638 PAYMENTS&INTERESTRATES\n",
       "16                          JUN27 JUN29 THEHOMEDEPOT#7166CAMBRIDGEON $30.48 Minimumpayment $10.00\n",
       "17                                              74522812179004035150951 Paymentduedate AUG16,2022\n",
       "18                        JUN27 JUN29 THEBEERSTORE#4162CAMBRIDGEON $148.85 Creditlimit $17,000.00\n",
       "19                                             74529002178920115756007 Availablecredit $16,810.56"
      ]
     },
     "execution_count": 70,
     "metadata": {},
     "output_type": "execute_result"
    }
   ],
   "source": [
    "df.head(20)"
   ]
  },
  {
   "cell_type": "code",
   "execution_count": 75,
   "id": "691a993e",
   "metadata": {},
   "outputs": [],
   "source": [
    "pd.set_option('max_rows', None)"
   ]
  },
  {
   "cell_type": "code",
   "execution_count": 76,
   "id": "04c09a4f",
   "metadata": {},
   "outputs": [
    {
     "data": {
      "text/html": [
       "<div>\n",
       "<style scoped>\n",
       "    .dataframe tbody tr th:only-of-type {\n",
       "        vertical-align: middle;\n",
       "    }\n",
       "\n",
       "    .dataframe tbody tr th {\n",
       "        vertical-align: top;\n",
       "    }\n",
       "\n",
       "    .dataframe thead th {\n",
       "        text-align: right;\n",
       "    }\n",
       "</style>\n",
       "<table border=\"1\" class=\"dataframe\">\n",
       "  <thead>\n",
       "    <tr style=\"text-align: right;\">\n",
       "      <th></th>\n",
       "      <th>text</th>\n",
       "    </tr>\n",
       "  </thead>\n",
       "  <tbody>\n",
       "    <tr>\n",
       "      <th>0</th>\n",
       "      <td>RoyalBankofCanada Your RBC personal banking</td>\n",
       "    </tr>\n",
       "    <tr>\n",
       "      <th>1</th>\n",
       "      <td>P.O.Box4047TerminalA</td>\n",
       "    </tr>\n",
       "    <tr>\n",
       "      <th>2</th>\n",
       "      <td>TorontoONM5W1L5</td>\n",
       "    </tr>\n",
       "    <tr>\n",
       "      <th>3</th>\n",
       "      <td>account statement</td>\n",
       "    </tr>\n",
       "    <tr>\n",
       "      <th>4</th>\n",
       "      <td>FromJune17,2022toJuly15,2022</td>\n",
       "    </tr>\n",
       "    <tr>\n",
       "      <th>5</th>\n",
       "      <td>RBPDA10020_5929731_008 E D 017 00592 04426</td>\n",
       "    </tr>\n",
       "    <tr>\n",
       "      <th>6</th>\n",
       "      <td>DOMINICMORTIMER</td>\n",
       "    </tr>\n",
       "    <tr>\n",
       "      <th>7</th>\n",
       "      <td>Youraccountnumber: 00592-5039060</td>\n",
       "    </tr>\n",
       "    <tr>\n",
       "      <th>8</th>\n",
       "      <td>427BRIMORTONDRIVE</td>\n",
       "    </tr>\n",
       "    <tr>\n",
       "      <th>9</th>\n",
       "      <td>SCARBOROUGHON M1H2E4</td>\n",
       "    </tr>\n",
       "    <tr>\n",
       "      <th>10</th>\n",
       "      <td>Howtoreachus: 1-800ROYAL®1-1</td>\n",
       "    </tr>\n",
       "    <tr>\n",
       "      <th>11</th>\n",
       "      <td>(1-800-769-2511)</td>\n",
       "    </tr>\n",
       "    <tr>\n",
       "      <th>12</th>\n",
       "      <td>www.rbcroyalbank.com/deposits</td>\n",
       "    </tr>\n",
       "    <tr>\n",
       "      <th>13</th>\n",
       "      <td>*</td>\n",
       "    </tr>\n",
       "    <tr>\n",
       "      <th>14</th>\n",
       "      <td>0</td>\n",
       "    </tr>\n",
       "    <tr>\n",
       "      <th>15</th>\n",
       "      <td>Summaryofyouraccountforthisperiod</td>\n",
       "    </tr>\n",
       "    <tr>\n",
       "      <th>16</th>\n",
       "      <td>0</td>\n",
       "    </tr>\n",
       "    <tr>\n",
       "      <th>17</th>\n",
       "      <td>0 RBCSignatureNoLimitBankingTM 00592-5039060</td>\n",
       "    </tr>\n",
       "    <tr>\n",
       "      <th>18</th>\n",
       "      <td>0 RoyalBankofCanada</td>\n",
       "    </tr>\n",
       "    <tr>\n",
       "      <th>19</th>\n",
       "      <td>0 100JAMIESONPKWY,CAMBRIDGE,ONN3C4B3</td>\n",
       "    </tr>\n",
       "    <tr>\n",
       "      <th>20</th>\n",
       "      <td>0 YouropeningbalanceonJune17,2022 $2,339.41</td>\n",
       "    </tr>\n",
       "    <tr>\n",
       "      <th>21</th>\n",
       "      <td>G Totaldepositsintoyouraccount +4,897.88</td>\n",
       "    </tr>\n",
       "    <tr>\n",
       "      <th>22</th>\n",
       "      <td>1 Totalwithdrawalsfromyouraccount -4,446.09</td>\n",
       "    </tr>\n",
       "    <tr>\n",
       "      <th>23</th>\n",
       "      <td>* YourclosingbalanceonJuly15,2022 =$2,791.20</td>\n",
       "    </tr>\n",
       "    <tr>\n",
       "      <th>24</th>\n",
       "      <td>Detailsofyouraccountactivity</td>\n",
       "    </tr>\n",
       "    <tr>\n",
       "      <th>25</th>\n",
       "      <td>5</td>\n",
       "    </tr>\n",
       "    <tr>\n",
       "      <th>26</th>\n",
       "      <td>9</td>\n",
       "    </tr>\n",
       "    <tr>\n",
       "      <th>27</th>\n",
       "      <td>80 Date Description Withdrawals($) Deposits($) Balance($)</td>\n",
       "    </tr>\n",
       "    <tr>\n",
       "      <th>28</th>\n",
       "      <td>- OpeningBalance 2,339.41</td>\n",
       "    </tr>\n",
       "    <tr>\n",
       "      <th>29</th>\n",
       "      <td>-</td>\n",
       "    </tr>\n",
       "    <tr>\n",
       "      <th>30</th>\n",
       "      <td>6 20Jun MiscPayment QuestradeInc 300.00</td>\n",
       "    </tr>\n",
       "    <tr>\n",
       "      <th>31</th>\n",
       "      <td>1</td>\n",
       "    </tr>\n",
       "    <tr>\n",
       "      <th>32</th>\n",
       "      <td>0- e-Transfersent EricClement 75.00</td>\n",
       "    </tr>\n",
       "    <tr>\n",
       "      <th>33</th>\n",
       "      <td>9</td>\n",
       "    </tr>\n",
       "    <tr>\n",
       "      <th>34</th>\n",
       "      <td>3</td>\n",
       "    </tr>\n",
       "    <tr>\n",
       "      <th>35</th>\n",
       "      <td>5 OnlineBankingtransfer-0863 501.49 1,462.92</td>\n",
       "    </tr>\n",
       "    <tr>\n",
       "      <th>36</th>\n",
       "      <td>-</td>\n",
       "    </tr>\n",
       "    <tr>\n",
       "      <th>37</th>\n",
       "      <td>1 27Jun Insurance MANULIFE 310.00</td>\n",
       "    </tr>\n",
       "    <tr>\n",
       "      <th>38</th>\n",
       "      <td>-</td>\n",
       "    </tr>\n",
       "    <tr>\n",
       "      <th>39</th>\n",
       "      <td>0</td>\n",
       "    </tr>\n",
       "    <tr>\n",
       "      <th>40</th>\n",
       "      <td>0 OnlineBankingtransfer-7460 293.79 1,479.13</td>\n",
       "    </tr>\n",
       "    <tr>\n",
       "      <th>41</th>\n",
       "      <td>-</td>\n",
       "    </tr>\n",
       "    <tr>\n",
       "      <th>42</th>\n",
       "      <td>RI 29Jun PayrollDeposit WavePYRL 1,886.89 3,366.02</td>\n",
       "    </tr>\n",
       "    <tr>\n",
       "      <th>43</th>\n",
       "      <td>H</td>\n",
       "    </tr>\n",
       "    <tr>\n",
       "      <th>44</th>\n",
       "      <td>9 30Jun OnlineBankingtransfer-8885 636.61 2,729.41</td>\n",
       "    </tr>\n",
       "    <tr>\n",
       "      <th>45</th>\n",
       "      <td>8</td>\n",
       "    </tr>\n",
       "    <tr>\n",
       "      <th>46</th>\n",
       "      <td>9</td>\n",
       "    </tr>\n",
       "    <tr>\n",
       "      <th>47</th>\n",
       "      <td>8 4Jul Interacpurchase-3330 GRACECONVENIEN 7.01 2,722.40</td>\n",
       "    </tr>\n",
       "    <tr>\n",
       "      <th>48</th>\n",
       "      <td>3</td>\n",
       "    </tr>\n",
       "    <tr>\n",
       "      <th>49</th>\n",
       "      <td>0</td>\n",
       "    </tr>\n",
       "    <tr>\n",
       "      <th>50</th>\n",
       "      <td>0 MiscPayment QuestradeInc 300.00</td>\n",
       "    </tr>\n",
       "    <tr>\n",
       "      <th>51</th>\n",
       "      <td>-</td>\n",
       "    </tr>\n",
       "    <tr>\n",
       "      <th>52</th>\n",
       "      <td>8</td>\n",
       "    </tr>\n",
       "    <tr>\n",
       "      <th>53</th>\n",
       "      <td>0 e-Transfersent VictoriaRumboldt 1,700.00 722.40</td>\n",
       "    </tr>\n",
       "    <tr>\n",
       "      <th>54</th>\n",
       "      <td>0</td>\n",
       "    </tr>\n",
       "    <tr>\n",
       "      <th>55</th>\n",
       "      <td>_</td>\n",
       "    </tr>\n",
       "    <tr>\n",
       "      <th>56</th>\n",
       "      <td>1 5Jul e-Transferreceived WSNCC 195.00 917.40</td>\n",
       "    </tr>\n",
       "    <tr>\n",
       "      <th>57</th>\n",
       "      <td>3</td>\n",
       "    </tr>\n",
       "    <tr>\n",
       "      <th>58</th>\n",
       "      <td>7</td>\n",
       "    </tr>\n",
       "    <tr>\n",
       "      <th>59</th>\n",
       "      <td>29 GST CANADA 108.60 1,026.00</td>\n",
       "    </tr>\n",
       "    <tr>\n",
       "      <th>60</th>\n",
       "      <td>9</td>\n",
       "    </tr>\n",
       "    <tr>\n",
       "      <th>61</th>\n",
       "      <td>_5 6Jul OnlineBankingtransfer-9122 351.14 674.86</td>\n",
       "    </tr>\n",
       "    <tr>\n",
       "      <th>62</th>\n",
       "      <td>0</td>\n",
       "    </tr>\n",
       "    <tr>\n",
       "      <th>63</th>\n",
       "      <td>2</td>\n",
       "    </tr>\n",
       "    <tr>\n",
       "      <th>64</th>\n",
       "      <td>0 8Jul Prov/LocalGvtPayment CANADA 324.00 998.86</td>\n",
       "    </tr>\n",
       "    <tr>\n",
       "      <th>65</th>\n",
       "      <td>0</td>\n",
       "    </tr>\n",
       "    <tr>\n",
       "      <th>66</th>\n",
       "      <td>1</td>\n",
       "    </tr>\n",
       "    <tr>\n",
       "      <th>67</th>\n",
       "      <td>A 14Jul PayrollDeposit WavePYRL 1,886.89</td>\n",
       "    </tr>\n",
       "    <tr>\n",
       "      <th>68</th>\n",
       "      <td>D</td>\n",
       "    </tr>\n",
       "    <tr>\n",
       "      <th>69</th>\n",
       "      <td>BP OnlineBankingtransfer-4136 265.10 2,620.65</td>\n",
       "    </tr>\n",
       "    <tr>\n",
       "      <th>70</th>\n",
       "      <td>R</td>\n",
       "    </tr>\n",
       "    <tr>\n",
       "      <th>71</th>\n",
       "      <td>1of2</td>\n",
       "    </tr>\n",
       "    <tr>\n",
       "      <th>0</th>\n",
       "      <td>Your RBC personal banking account statement</td>\n",
       "    </tr>\n",
       "    <tr>\n",
       "      <th>1</th>\n",
       "      <td>FromJune17,2022toJuly15,2022</td>\n",
       "    </tr>\n",
       "    <tr>\n",
       "      <th>2</th>\n",
       "      <td>Detailsofyouraccountactivity-continued</td>\n",
       "    </tr>\n",
       "    <tr>\n",
       "      <th>3</th>\n",
       "      <td>Date Description Withdrawals($) Deposits($) Balance($)</td>\n",
       "    </tr>\n",
       "    <tr>\n",
       "      <th>4</th>\n",
       "      <td>15Jul FederalPayment CANADA 186.50</td>\n",
       "    </tr>\n",
       "    <tr>\n",
       "      <th>5</th>\n",
       "      <td>Monthlyfee 15.95 2,791.20</td>\n",
       "    </tr>\n",
       "    <tr>\n",
       "      <th>6</th>\n",
       "      <td>ClosingBalance $2,791.20</td>\n",
       "    </tr>\n",
       "    <tr>\n",
       "      <th>7</th>\n",
       "      <td>6</td>\n",
       "    </tr>\n",
       "    <tr>\n",
       "      <th>8</th>\n",
       "      <td>9</td>\n",
       "    </tr>\n",
       "    <tr>\n",
       "      <th>9</th>\n",
       "      <td>0</td>\n",
       "    </tr>\n",
       "    <tr>\n",
       "      <th>10</th>\n",
       "      <td>8</td>\n",
       "    </tr>\n",
       "    <tr>\n",
       "      <th>11</th>\n",
       "      <td>9</td>\n",
       "    </tr>\n",
       "    <tr>\n",
       "      <th>12</th>\n",
       "      <td>8</td>\n",
       "    </tr>\n",
       "    <tr>\n",
       "      <th>13</th>\n",
       "      <td>9</td>\n",
       "    </tr>\n",
       "    <tr>\n",
       "      <th>14</th>\n",
       "      <td>8</td>\n",
       "    </tr>\n",
       "    <tr>\n",
       "      <th>15</th>\n",
       "      <td>3</td>\n",
       "    </tr>\n",
       "    <tr>\n",
       "      <th>16</th>\n",
       "      <td>0</td>\n",
       "    </tr>\n",
       "    <tr>\n",
       "      <th>17</th>\n",
       "      <td>0</td>\n",
       "    </tr>\n",
       "    <tr>\n",
       "      <th>18</th>\n",
       "      <td>PleasecheckthisAccountStatementwithoutdelayandadviseusofanyerrororomissionwithin45daysofthestatementdate. -</td>\n",
       "    </tr>\n",
       "    <tr>\n",
       "      <th>19</th>\n",
       "      <td>8</td>\n",
       "    </tr>\n",
       "    <tr>\n",
       "      <th>20</th>\n",
       "      <td>Ifyouoptedtoreceivechequeimages,onlyimagesofthefrontofyourchequeshavebeensenttoyouwiththisAccountStatement.AnimageincludedonthisAccountStatementdoesnot 0</td>\n",
       "    </tr>\n",
       "    <tr>\n",
       "      <th>21</th>\n",
       "      <td>0</td>\n",
       "    </tr>\n",
       "    <tr>\n",
       "      <th>22</th>\n",
       "      <td>indicatethatachequehasbeensuccessfullyprocessedasofthestatementdate. _</td>\n",
       "    </tr>\n",
       "    <tr>\n",
       "      <th>23</th>\n",
       "      <td>1</td>\n",
       "    </tr>\n",
       "    <tr>\n",
       "      <th>24</th>\n",
       "      <td>Pleaseretainthisstatementforyourrecords. 3</td>\n",
       "    </tr>\n",
       "    <tr>\n",
       "      <th>25</th>\n",
       "      <td>7</td>\n",
       "    </tr>\n",
       "    <tr>\n",
       "      <th>26</th>\n",
       "      <td>TMTrademarksofRoyalBankofCanada.RBCandRoyalBankareregisteredtrademarksofRoyalBankofCanada. 9</td>\n",
       "    </tr>\n",
       "    <tr>\n",
       "      <th>27</th>\n",
       "      <td>2</td>\n",
       "    </tr>\n",
       "    <tr>\n",
       "      <th>28</th>\n",
       "      <td>®Registeredtrade-markofRoyalBankofCanada.RoyalTrustCorporationofCanadaandTheRoyalTrustCompanyarelicenseesofthetrade-mark. 9</td>\n",
       "    </tr>\n",
       "    <tr>\n",
       "      <th>29</th>\n",
       "      <td>5</td>\n",
       "    </tr>\n",
       "    <tr>\n",
       "      <th>30</th>\n",
       "      <td>RoyalBankofCanadaGSTRegistrationNumber:R105248165 _</td>\n",
       "    </tr>\n",
       "    <tr>\n",
       "      <th>31</th>\n",
       "      <td>0</td>\n",
       "    </tr>\n",
       "    <tr>\n",
       "      <th>32</th>\n",
       "      <td>RoyalTrustCorporationofCanadaGSTRegistrationNumber:R104646666 2</td>\n",
       "    </tr>\n",
       "    <tr>\n",
       "      <th>33</th>\n",
       "      <td>0</td>\n",
       "    </tr>\n",
       "    <tr>\n",
       "      <th>34</th>\n",
       "      <td>TheRoyalTrustCompanyGSTRegistrationNumber:R105248264 0</td>\n",
       "    </tr>\n",
       "    <tr>\n",
       "      <th>35</th>\n",
       "      <td>1</td>\n",
       "    </tr>\n",
       "    <tr>\n",
       "      <th>36</th>\n",
       "      <td>A</td>\n",
       "    </tr>\n",
       "    <tr>\n",
       "      <th>37</th>\n",
       "      <td>D</td>\n",
       "    </tr>\n",
       "    <tr>\n",
       "      <th>38</th>\n",
       "      <td>P</td>\n",
       "    </tr>\n",
       "    <tr>\n",
       "      <th>39</th>\n",
       "      <td>B</td>\n",
       "    </tr>\n",
       "    <tr>\n",
       "      <th>40</th>\n",
       "      <td>2of2 R</td>\n",
       "    </tr>\n",
       "  </tbody>\n",
       "</table>\n",
       "</div>"
      ],
      "text/plain": [
       "                                                                                                                                                         text\n",
       "0                                                                                                                 RoyalBankofCanada Your RBC personal banking\n",
       "1                                                                                                                                        P.O.Box4047TerminalA\n",
       "2                                                                                                                                             TorontoONM5W1L5\n",
       "3                                                                                                                                           account statement\n",
       "4                                                                                                                                FromJune17,2022toJuly15,2022\n",
       "5                                                                                                                  RBPDA10020_5929731_008 E D 017 00592 04426\n",
       "6                                                                                                                                             DOMINICMORTIMER\n",
       "7                                                                                                                            Youraccountnumber: 00592-5039060\n",
       "8                                                                                                                                           427BRIMORTONDRIVE\n",
       "9                                                                                                                                        SCARBOROUGHON M1H2E4\n",
       "10                                                                                                                               Howtoreachus: 1-800ROYAL®1-1\n",
       "11                                                                                                                                           (1-800-769-2511)\n",
       "12                                                                                                                              www.rbcroyalbank.com/deposits\n",
       "13                                                                                                                                                          *\n",
       "14                                                                                                                                                          0\n",
       "15                                                                                                                          Summaryofyouraccountforthisperiod\n",
       "16                                                                                                                                                          0\n",
       "17                                                                                                               0 RBCSignatureNoLimitBankingTM 00592-5039060\n",
       "18                                                                                                                                        0 RoyalBankofCanada\n",
       "19                                                                                                                       0 100JAMIESONPKWY,CAMBRIDGE,ONN3C4B3\n",
       "20                                                                                                                0 YouropeningbalanceonJune17,2022 $2,339.41\n",
       "21                                                                                                                   G Totaldepositsintoyouraccount +4,897.88\n",
       "22                                                                                                                1 Totalwithdrawalsfromyouraccount -4,446.09\n",
       "23                                                                                                               * YourclosingbalanceonJuly15,2022 =$2,791.20\n",
       "24                                                                                                                               Detailsofyouraccountactivity\n",
       "25                                                                                                                                                          5\n",
       "26                                                                                                                                                          9\n",
       "27                                                                                                  80 Date Description Withdrawals($) Deposits($) Balance($)\n",
       "28                                                                                                                                  - OpeningBalance 2,339.41\n",
       "29                                                                                                                                                          -\n",
       "30                                                                                                                    6 20Jun MiscPayment QuestradeInc 300.00\n",
       "31                                                                                                                                                          1\n",
       "32                                                                                                                        0- e-Transfersent EricClement 75.00\n",
       "33                                                                                                                                                          9\n",
       "34                                                                                                                                                          3\n",
       "35                                                                                                               5 OnlineBankingtransfer-0863 501.49 1,462.92\n",
       "36                                                                                                                                                          -\n",
       "37                                                                                                                          1 27Jun Insurance MANULIFE 310.00\n",
       "38                                                                                                                                                          -\n",
       "39                                                                                                                                                          0\n",
       "40                                                                                                               0 OnlineBankingtransfer-7460 293.79 1,479.13\n",
       "41                                                                                                                                                          -\n",
       "42                                                                                                         RI 29Jun PayrollDeposit WavePYRL 1,886.89 3,366.02\n",
       "43                                                                                                                                                          H\n",
       "44                                                                                                         9 30Jun OnlineBankingtransfer-8885 636.61 2,729.41\n",
       "45                                                                                                                                                          8\n",
       "46                                                                                                                                                          9\n",
       "47                                                                                                   8 4Jul Interacpurchase-3330 GRACECONVENIEN 7.01 2,722.40\n",
       "48                                                                                                                                                          3\n",
       "49                                                                                                                                                          0\n",
       "50                                                                                                                          0 MiscPayment QuestradeInc 300.00\n",
       "51                                                                                                                                                          -\n",
       "52                                                                                                                                                          8\n",
       "53                                                                                                          0 e-Transfersent VictoriaRumboldt 1,700.00 722.40\n",
       "54                                                                                                                                                          0\n",
       "55                                                                                                                                                          _\n",
       "56                                                                                                              1 5Jul e-Transferreceived WSNCC 195.00 917.40\n",
       "57                                                                                                                                                          3\n",
       "58                                                                                                                                                          7\n",
       "59                                                                                                                              29 GST CANADA 108.60 1,026.00\n",
       "60                                                                                                                                                          9\n",
       "61                                                                                                           _5 6Jul OnlineBankingtransfer-9122 351.14 674.86\n",
       "62                                                                                                                                                          0\n",
       "63                                                                                                                                                          2\n",
       "64                                                                                                           0 8Jul Prov/LocalGvtPayment CANADA 324.00 998.86\n",
       "65                                                                                                                                                          0\n",
       "66                                                                                                                                                          1\n",
       "67                                                                                                                   A 14Jul PayrollDeposit WavePYRL 1,886.89\n",
       "68                                                                                                                                                          D\n",
       "69                                                                                                              BP OnlineBankingtransfer-4136 265.10 2,620.65\n",
       "70                                                                                                                                                          R\n",
       "71                                                                                                                                                       1of2\n",
       "0                                                                                                                 Your RBC personal banking account statement\n",
       "1                                                                                                                                FromJune17,2022toJuly15,2022\n",
       "2                                                                                                                      Detailsofyouraccountactivity-continued\n",
       "3                                                                                                      Date Description Withdrawals($) Deposits($) Balance($)\n",
       "4                                                                                                                          15Jul FederalPayment CANADA 186.50\n",
       "5                                                                                                                                   Monthlyfee 15.95 2,791.20\n",
       "6                                                                                                                                    ClosingBalance $2,791.20\n",
       "7                                                                                                                                                           6\n",
       "8                                                                                                                                                           9\n",
       "9                                                                                                                                                           0\n",
       "10                                                                                                                                                          8\n",
       "11                                                                                                                                                          9\n",
       "12                                                                                                                                                          8\n",
       "13                                                                                                                                                          9\n",
       "14                                                                                                                                                          8\n",
       "15                                                                                                                                                          3\n",
       "16                                                                                                                                                          0\n",
       "17                                                                                                                                                          0\n",
       "18                                                PleasecheckthisAccountStatementwithoutdelayandadviseusofanyerrororomissionwithin45daysofthestatementdate. -\n",
       "19                                                                                                                                                          8\n",
       "20  Ifyouoptedtoreceivechequeimages,onlyimagesofthefrontofyourchequeshavebeensenttoyouwiththisAccountStatement.AnimageincludedonthisAccountStatementdoesnot 0\n",
       "21                                                                                                                                                          0\n",
       "22                                                                                     indicatethatachequehasbeensuccessfullyprocessedasofthestatementdate. _\n",
       "23                                                                                                                                                          1\n",
       "24                                                                                                                 Pleaseretainthisstatementforyourrecords. 3\n",
       "25                                                                                                                                                          7\n",
       "26                                                               TMTrademarksofRoyalBankofCanada.RBCandRoyalBankareregisteredtrademarksofRoyalBankofCanada. 9\n",
       "27                                                                                                                                                          2\n",
       "28                                ®Registeredtrade-markofRoyalBankofCanada.RoyalTrustCorporationofCanadaandTheRoyalTrustCompanyarelicenseesofthetrade-mark. 9\n",
       "29                                                                                                                                                          5\n",
       "30                                                                                                        RoyalBankofCanadaGSTRegistrationNumber:R105248165 _\n",
       "31                                                                                                                                                          0\n",
       "32                                                                                            RoyalTrustCorporationofCanadaGSTRegistrationNumber:R104646666 2\n",
       "33                                                                                                                                                          0\n",
       "34                                                                                                     TheRoyalTrustCompanyGSTRegistrationNumber:R105248264 0\n",
       "35                                                                                                                                                          1\n",
       "36                                                                                                                                                          A\n",
       "37                                                                                                                                                          D\n",
       "38                                                                                                                                                          P\n",
       "39                                                                                                                                                          B\n",
       "40                                                                                                                                                     2of2 R"
      ]
     },
     "execution_count": 76,
     "metadata": {},
     "output_type": "execute_result"
    }
   ],
   "source": [
    "df"
   ]
  },
  {
   "cell_type": "code",
   "execution_count": 48,
   "id": "3dc65589",
   "metadata": {},
   "outputs": [
    {
     "name": "stdout",
     "output_type": "stream",
     "text": [
      "Available options: \n",
      "\n",
      "\t (1) Neo - Credit\n",
      "\t (2) RBC - Credit\n",
      "\t (3) RBC - Debit\n",
      "\t (4) Tangerine - Chequing\n",
      "\t (5) Tangerine - Savings\n",
      "\n",
      " Select the number of the option you'd like to add (or press enter to continue)\n",
      "\n",
      "2\n",
      "\n",
      " Select the number of the option you'd like to add (or press enter to continue)\n",
      "\n",
      "\n"
     ]
    }
   ],
   "source": [
    "    ###################################################################################################################\n",
    "    # some data cleaning\n",
    "    ###################################################################################################################\n",
    "\n",
    "    # drop null values\n",
    "    df = df.dropna()\n",
    "\n",
    "    # select only lines that have a date associated with them\n",
    "    df = df.loc[df['text'].str[:3].str.contains('JAN|FEB|MAR|APR|MAY|JUN|JUL|AUG|SEP|OCT|NOV|DEC'), :]\n",
    "\n",
    "    # split the date, description and amount out into their own columns\n",
    "    df['date'] = df['text'].str.split(' ').str[0]\n",
    "    df['place'] = df['text'].str.split(' ').str[2]\n",
    "    df['amount'] = df['text'].str.split(' ').str[3]\n",
    "\n",
    "    # reset the index and drop unnecessary columns\n",
    "    df = df.reset_index().drop(['index', 'text'], axis=1)\n",
    "    df = df.rename(columns={\n",
    "        'date' : 'Date', \n",
    "        'place' : 'Place', \n",
    "        'amount' : 'Amount'\n",
    "    })\n",
    "\n",
    "    # touch up the amount column so that it will be formatted as a number in google sheet\n",
    "    df['Amount'] = df['Amount'].str.replace(',', '').str.replace('\\$', '')"
   ]
  },
  {
   "cell_type": "code",
   "execution_count": 3,
   "id": "9b396cff",
   "metadata": {},
   "outputs": [],
   "source": [
    "import pdfplumber as pdfp\n",
    "import pandas as pd\n",
    "import numpy as np\n",
    "import warnings\n",
    "import os\n",
    "import time\n",
    "\n",
    "warnings.filterwarnings('ignore')\n",
    "\n",
    "def extracting_credit_card_statements():\n",
    "\n",
    "    ###################################################################################################################\n",
    "    # Get the year and month that the user wants to analyze\n",
    "    ###################################################################################################################\n",
    "\n",
    "    # clear the screen and get the input\n",
    "    os.system('cls' if os.name == 'nt' else 'clear')\n",
    "\n",
    "    year_ = input('\\n What year are you looking to analyze? \\n\\n')\n",
    "    assert int(year_) in (2021, 2022), 'Invalid year entered'\n",
    "    month_ = input('\\n What month are you looking to analyze? (1 - 12) \\n\\n')\n",
    "    assert int(month_) in list(np.arange(1, 13)), 'Invalid month entered'\n",
    "\n",
    "    # re-structure the input in such a way that we can use it\n",
    "    if int(month_) < 10:\n",
    "        month_ = '0' + month_\n",
    "    month = year_[-2:] + '-' + month_\n",
    "\n",
    "    print(f'\\n Processing data for {month}... \\n')\n",
    "    time.sleep(2)\n",
    "\n",
    "    ###################################################################################################################\n",
    "    # loading the data\n",
    "    ###################################################################################################################\n",
    "\n",
    "    pages = []\n",
    "\n",
    "    # open pdf statement, read each page and extract the text line by line, save results\n",
    "    with pdfp.open(f'Credit Card Statements/{month}.pdf') as pdf:\n",
    "\n",
    "        for page in pdf.pages:\n",
    "            pages.append(page.extract_text().split('\\n'))\n",
    "\n",
    "        for i, page in enumerate(pages):\n",
    "            if i == 0:\n",
    "                df = pd.DataFrame(page, columns=['text'])\n",
    "            else:\n",
    "                new_df = pd.DataFrame(page, columns=['text'])\n",
    "                df = pd.concat([df, new_df])\n",
    "\n",
    "    ###################################################################################################################\n",
    "    # some data cleaning\n",
    "    ###################################################################################################################\n",
    "\n",
    "    # drop null values\n",
    "    df = df.dropna()\n",
    "\n",
    "    # select only lines that have a date associated with them\n",
    "    df = df.loc[df['text'].str[:3].str.contains('JAN|FEB|MAR|APR|MAY|JUN|JUL|AUG|SEP|OCT|NOV|DEC'), :]\n",
    "\n",
    "    # split the date, description and amount out into their own columns\n",
    "    df['date'] = df['text'].str.split(' ').str[0]\n",
    "    df['place'] = df['text'].str.split(' ').str[2]\n",
    "    df['amount'] = df['text'].str.split(' ').str[3]\n",
    "\n",
    "    # reset the index and drop unnecessary columns\n",
    "    df = df.reset_index().drop(['index', 'text'], axis=1)\n",
    "    df = df.rename(columns={\n",
    "        'date' : 'Date', \n",
    "        'place' : 'Place', \n",
    "        'amount' : 'Amount'\n",
    "    })\n",
    "\n",
    "    # touch up the amount column so that it will be formatted as a number in google sheet\n",
    "    df['Amount'] = df['Amount'].str.replace(',', '').str.replace('\\$', '')\n",
    "\n",
    "    ###################################################################################################################\n",
    "    # exclude entries which are recurring payments\n",
    "    ###################################################################################################################\n",
    "\n",
    "    recurring_payments = 'spotify'\\\n",
    "                        '|fido'\\\n",
    "                        '|tsiinternet'\\\n",
    "                        '|insurancecompanymarkham'\n",
    "\n",
    "    os.system('cls' if os.name == 'nt' else 'clear')\n",
    "    print('Recurring payments (not included in analysis): ', end='\\n\\n')\n",
    "    for item in recurring_payments.split('|'):\n",
    "        print(f'\\t{item}')\n",
    "\n",
    "    answer = input('\\n Do the recurring payments look correct? (y/n): ')\n",
    "    assert answer == 'y', 'Better update it!'\n",
    "\n",
    "    df = df.loc[~df['Place'].str.lower().str.contains(recurring_payments), :]\n",
    "\n",
    "    ###################################################################################################################\n",
    "    # show the list of charges and ask if anything should be ignored this time around\n",
    "    ###################################################################################################################\n",
    "\n",
    "    os.system('cls' if os.name == 'nt' else 'clear')\n",
    "\n",
    "    print('\\n All charges: ')\n",
    "    pd.set_option('max_rows', None)\n",
    "    print(df[['Place', 'Amount']])\n",
    "    pd.reset_option('max_rows')\n",
    "\n",
    "    payments_to_ignore = 'westjet'\\\n",
    "                        '|paybackwithpoints'\\\n",
    "                        '|bessadakia'\\\n",
    "                        '|payment-thankyou'\\\n",
    "                        '|bestseller'\n",
    "    # payments_to_ignore = 'nothing to ignore!'\n",
    "\n",
    "    print(f'\\n\\n Ignoring the following charges: \\n')\n",
    "    for charge in payments_to_ignore.split('|'):\n",
    "        print(charge)\n",
    "\n",
    "    answer = input('\\n Looking at the charges above, anything else you would like to add to the ignore list? (y/n): ')\n",
    "    assert answer == 'n', 'Add it into line 116!'\n",
    "\n",
    "    df = df.loc[~df['Place'].str.lower().str.contains(payments_to_ignore), :]\n",
    "\n",
    "    ###################################################################################################################\n",
    "    # set up the keywords which will be used to group the charges\n",
    "    ###################################################################################################################\n",
    "\n",
    "    on_the_go_coffee = 'timhortons'\\\n",
    "                    '|starbuck'\\\n",
    "                    '|coffee'\\\n",
    "                    '|timothy'\\\n",
    "                    '|balzac'\\\n",
    "                    '|madawaskacoffee'\\\n",
    "                    '|secondcup'\n",
    "\n",
    "    beer_and_weed = 'lcbo'\\\n",
    "                    '|beerstore'\\\n",
    "                    '|oneplant'\n",
    "\n",
    "    take_out = 'subway'\\\n",
    "            '|domino'\\\n",
    "            '|a&w'\\\n",
    "            '|zoup'\\\n",
    "            '|amazing'\\\n",
    "            '|maestro'\\\n",
    "            '|emily'\\\n",
    "            '|vipei'\\\n",
    "            '|bigbrother'\\\n",
    "            '|booster'\\\n",
    "            '|freshly'\\\n",
    "            '|northwinds'\\\n",
    "            '|jerk'\\\n",
    "            '|milkylane'\\\n",
    "            '|burrito'\\\n",
    "            '|jusdanfoods'\\\n",
    "            '|cornwall'\\\n",
    "            '|bastard'\\\n",
    "            '|rolltation'\\\n",
    "            '|shawarma'\\\n",
    "            '|carleton'\\\n",
    "            '|doordash'\\\n",
    "            '|mcdonald'\\\n",
    "            '|caesar'\\\n",
    "            '|pizza'\\\n",
    "            '|papajohn'\\\n",
    "            '|shakeshack'\\\n",
    "            '|einsteinbrosbagel'\\\n",
    "            '|bagelsvancouver'\n",
    "\n",
    "    bars_and_restaurants = 'jackastor'\\\n",
    "                        '|portly'\\\n",
    "                        '|oldestone'\\\n",
    "                        '|magwyer'\\\n",
    "                        '|kelsey'\\\n",
    "                        '|chuuk'\\\n",
    "                        '|lacarnita'\\\n",
    "                        '|smitty'\\\n",
    "                        '|milestone'\\\n",
    "                        '|wildwing'\\\n",
    "                        '|popeyes'\\\n",
    "                        '|prenup'\\\n",
    "                        '|moose'\\\n",
    "                        '|sabai'\\\n",
    "                        '|borealis'\\\n",
    "                        '|thepint'\\\n",
    "                        '|chicago'\\\n",
    "                        '|spaghetti'\\\n",
    "                        '|bmofield'\\\n",
    "                        '|yummykorean'\\\n",
    "                        '|eggsmart'\\\n",
    "                        '|aokcraft'\\\n",
    "                        '|legendsmusic'\\\n",
    "                        '|aramark'\\\n",
    "                        '|cineplex'\\\n",
    "                        '|bar-main'\\\n",
    "                        '|petitami'\\\n",
    "                        '|brewhouse'\\\n",
    "                        '|irishtimespub'\\\n",
    "                        '|poncho'\\\n",
    "                        '|kingsheadpub'\\\n",
    "                        '|thecentralseattle'\\\n",
    "                        '|chachalounge'\\\n",
    "                        '|jamcafe'\\\n",
    "                        '|superflux'\\\n",
    "                        '|mileoneeatinghouse'\\\n",
    "                        '|trattoria'\n",
    "\n",
    "    clothing = 'zara'\\\n",
    "            '|h&m'\\\n",
    "            '|aeo'\\\n",
    "            '|softmoc'\\\n",
    "            '|vans'\\\n",
    "            '|jack&jones'\\\n",
    "            '|oldnavy'\\\n",
    "            '|sportchek'\\\n",
    "            '|winners'\\\n",
    "            '|spencergifts'\\\n",
    "            '|boathouse'\n",
    "\n",
    "    grocery = 'rcss'\\\n",
    "            '|freshco'\\\n",
    "            '|wal-mart'\\\n",
    "            '|nofrills'\\\n",
    "            '|loblaws'\\\n",
    "            '|zehrs'\\\n",
    "            '|metro'\\\n",
    "            '|foodbasics'\\\n",
    "            '|nikufarms'\\\n",
    "            '|safeway'\n",
    "\n",
    "    gas = 'shell'\\\n",
    "        '|petro'\\\n",
    "        '|macewen barrys'\\\n",
    "        '|pioneer'\\\n",
    "        '|essofowlers'\n",
    "\n",
    "    ###################################################################################################################\n",
    "    # assert that we're not double counting any charges by placing them in multiple categories\n",
    "    ###################################################################################################################\n",
    "\n",
    "    cats = {\n",
    "        'on_the_go_coffee' : on_the_go_coffee,\n",
    "        'take_out' : take_out,\n",
    "        'bars_and_restaurants' : bars_and_restaurants,\n",
    "        'clothing' : clothing,\n",
    "        'grocery' : grocery,\n",
    "        'gas' : gas\n",
    "    }\n",
    "\n",
    "    for cat1 in cats:\n",
    "        \n",
    "        for cat2 in cats:\n",
    "            \n",
    "            if cat1 == cat2:\n",
    "                continue\n",
    "            else:\n",
    "                for merchant in cats[cat1].split('|'):\n",
    "                    assert merchant not in cats[cat2].split('|'), \\\n",
    "                    f'{cat1} contains duplicate values with {cat2}, duplicate value: {merchant}'\n",
    "\n",
    "                    \n",
    "    ###################################################################################################################\n",
    "    ### show the user what is in each category\n",
    "    ###################################################################################################################\n",
    "\n",
    "    # for i, cat in enumerate(cats):\n",
    "        \n",
    "    #     os.system('cls' if os.name == 'nt' else 'clear')\n",
    "    #     print('\\n')\n",
    "            \n",
    "    #     print(f'{cat}: \\n')\n",
    "    #     for item in cats[cat].split('|'):\n",
    "            \n",
    "    #         print(f'\\t{item}')\n",
    "            \n",
    "    #     answer = input('\\n Does this category look correct? (y/n): ')\n",
    "    #     assert answer == 'y', 'Better change it!'\n",
    "\n",
    "        \n",
    "    ###################################################################################################################\n",
    "    ### show the user what is leftover (i.e. what was not caught by their keywords)\n",
    "    ###################################################################################################################\n",
    "\n",
    "    # clear the terminal screen\n",
    "    os.system('cls' if os.name == 'nt' else 'clear')\n",
    "\n",
    "    # generate full list of categorized charges\n",
    "    full_list = on_the_go_coffee + '|' + beer_and_weed + '|' + take_out + '|' + \\\n",
    "                bars_and_restaurants + '|' + clothing + '|' + grocery + '|' + gas\n",
    "\n",
    "    # use this to find uncategorized charges\n",
    "    tmp = df.loc[~df['Place'].str.lower().str.contains(full_list), ['Place', 'Amount']]\n",
    "    tmp.index = np.arange(1, len(tmp) + 1)\n",
    "    print('\\n\\n', f'{tmp.shape[0]} leftover (uncategorized) charges: \\n\\n', tmp, '\\n\\n')\n",
    "\n",
    "    # check with user that the uncategorized charges are correct\n",
    "    answer = input('These will all go into the misc category, anything in here that you would like to add to a category? (y/n): ')\n",
    "    assert answer == 'n', 'Please add to the categories as needed'\n",
    "\n",
    "    # touch up the final version of the misc charges\n",
    "    misc_charges = tmp['Place'].unique()\n",
    "    misc = ''\n",
    "\n",
    "    for misc_charge in misc_charges:\n",
    "        misc = misc + '|' + misc_charge\n",
    "        \n",
    "    misc = misc.strip('|').lower()\n",
    "\n",
    "    ###################################################################################################################\n",
    "    ### aggregate the totals by category, show final output\n",
    "    ###################################################################################################################\n",
    "\n",
    "    # clear the terminal screen\n",
    "    os.system('cls' if os.name == 'nt' else 'clear')\n",
    "\n",
    "    # aggregate regular categories\n",
    "    cat_names = [cat for cat in cats]\n",
    "    final_df = pd.DataFrame(columns=cat_names)\n",
    "\n",
    "    # set up the category field for the 'all_charges' df\n",
    "    df['category'] = ''\n",
    "\n",
    "    # loop through the categories, add the total charges to the final_df, and add the category label to the 'all_charges' df\n",
    "    for cat in cats:\n",
    "        final_df.loc[0, cat] = df.loc[df['Place'].str.lower().str.contains(cats[cat]), 'Amount'].astype('float64').sum()\n",
    "        df['category'] = np.where(df['Place'].str.lower().str.contains(cats[cat]),\n",
    "                                    cat,\n",
    "                                    df['category'])\n",
    "    df['category'] = np.where(df['category'] == '', 'Misc', df['category'])\n",
    "\n",
    "    # aggregate the misc category\n",
    "    final_df.loc[0, 'misc'] = df.loc[df['Place'].str.lower().str.contains(misc), 'Amount'].astype('float64').sum()\n",
    "\n",
    "    # do some final touch ups on the 'all_charges' df\n",
    "    df['date'] = '2022-' + df['Date'].str[:3].str.lower() + '-' + df['Date'].str[3:]\n",
    "    df['date'] = pd.to_datetime(df['date'])\n",
    "    df = df.drop('Date', axis=1)\n",
    "    df['days_into_period'] = (df['date'] - df['date'].min()).dt.days\n",
    "    df['Amount'] = df['Amount'].astype('float')\n",
    "    df = df[['date', 'days_into_period', 'Place', 'category', 'Amount']]\n",
    "\n",
    "    # show output\n",
    "    print('Final result: ', end='\\n\\n')\n",
    "    for col in final_df.columns:\n",
    "        charge = round(final_df[col][0])\n",
    "        print(f'{col} : ${charge}.00')\n",
    "    print('\\n\\n')\n",
    "\n",
    "    return (df, final_df)\n",
    "\n",
    "# if __name__ == '__main__':\n",
    "#     df, final_df = extracting_credit_card_statements()"
   ]
  },
  {
   "cell_type": "code",
   "execution_count": 82,
   "id": "d6eb3686",
   "metadata": {},
   "outputs": [],
   "source": [
    "import pdfplumber as pdfp\n",
    "import pandas as pd\n",
    "import numpy as np\n",
    "import warnings\n",
    "import os\n",
    "import time\n",
    "\n",
    "warnings.filterwarnings('ignore')\n",
    "\n",
    "def extracting_credit_card_statements():\n",
    "\n",
    "    ###################################################################################################################\n",
    "    # Get the year and month that the user wants to analyze\n",
    "    ###################################################################################################################\n",
    "\n",
    "    # clear the screen and get the input\n",
    "    os.system('cls' if os.name == 'nt' else 'clear')\n",
    "\n",
    "    year_ = '2022'\n",
    "    month_ = '05'\n",
    "    month = year_[-2:] + '-' + month_\n",
    "    \n",
    "    # re-structure the input in such a way that we can use it\n",
    "#     if int(month_) < 10:\n",
    "#         month_ = '0' + month_\n",
    "#     month = year_[-2:] + '-' + month_\n",
    "\n",
    "    print(f'\\n Processing data for {month}... \\n')\n",
    "    time.sleep(2)\n",
    "\n",
    "    ###################################################################################################################\n",
    "    # loading the data\n",
    "    ###################################################################################################################\n",
    "\n",
    "    pages = []\n",
    "\n",
    "    # open pdf statement, read each page and extract the text line by line, save results\n",
    "    with pdfp.open(f'Credit Card Statements/{month}.pdf') as pdf:\n",
    "\n",
    "        for page in pdf.pages:\n",
    "            pages.append(page.extract_text().split('\\n'))\n",
    "\n",
    "        for i, page in enumerate(pages):\n",
    "            if i == 0:\n",
    "                df = pd.DataFrame(page, columns=['text'])\n",
    "            else:\n",
    "                new_df = pd.DataFrame(page, columns=['text'])\n",
    "                df = pd.concat([df, new_df])\n",
    "\n",
    "    ###################################################################################################################\n",
    "    # some data cleaning\n",
    "    ###################################################################################################################\n",
    "\n",
    "    # drop null values\n",
    "    df = df.dropna()\n",
    "\n",
    "    # select only lines that have a date associated with them\n",
    "    df = df.loc[df['text'].str[:3].str.contains('JAN|FEB|MAR|APR|MAY|JUN|JUL|AUG|SEP|OCT|NOV|DEC'), :]\n",
    "\n",
    "    # split the date, description and amount out into their own columns\n",
    "    df['date'] = df['text'].str.split(' ').str[0]\n",
    "    df['place'] = df['text'].str.split(' ').str[2]\n",
    "    df['amount'] = df['text'].str.split(' ').str[3]\n",
    "\n",
    "    # reset the index and drop unnecessary columns\n",
    "    df = df.reset_index().drop(['index', 'text'], axis=1)\n",
    "    df = df.rename(columns={\n",
    "        'date' : 'Date', \n",
    "        'place' : 'Place', \n",
    "        'amount' : 'Amount'\n",
    "    })\n",
    "\n",
    "    # touch up the amount column so that it will be formatted as a number in google sheet\n",
    "    df['Amount'] = df['Amount'].str.replace(',', '').str.replace('\\$', '')\n",
    "\n",
    "    ###################################################################################################################\n",
    "    # exclude entries which are recurring payments\n",
    "    ###################################################################################################################\n",
    "\n",
    "    recurring_payments = 'spotify'\\\n",
    "                        '|fido'\\\n",
    "                        '|tsiinternet'\\\n",
    "                        '|insurancecompanymarkham'\n",
    "\n",
    "    os.system('cls' if os.name == 'nt' else 'clear')\n",
    "    print('Recurring payments (not included in analysis): ', end='\\n\\n')\n",
    "    for item in recurring_payments.split('|'):\n",
    "        print(f'\\t{item}')\n",
    "\n",
    "#     answer = input('\\n Do the recurring payments look correct? (y/n): ')\n",
    "#     assert answer == 'y', 'Better update it!'\n",
    "\n",
    "    df = df.loc[~df['Place'].str.lower().str.contains(recurring_payments), :]\n",
    "\n",
    "    ###################################################################################################################\n",
    "    # show the list of charges and ask if anything should be ignored this time around\n",
    "    ###################################################################################################################\n",
    "\n",
    "    os.system('cls' if os.name == 'nt' else 'clear')\n",
    "\n",
    "    print('\\n All charges: ')\n",
    "    pd.set_option('max_rows', None)\n",
    "    print(df[['Place', 'Amount']])\n",
    "    pd.reset_option('max_rows')\n",
    "\n",
    "    payments_to_ignore = 'westjet'\\\n",
    "                        '|paybackwithpoints'\\\n",
    "                        '|bessadakia'\\\n",
    "                        '|payment-thankyou'\\\n",
    "                        '|bestseller'\n",
    "    # payments_to_ignore = 'nothing to ignore!'\n",
    "\n",
    "    print(f'\\n\\n Ignoring the following charges: \\n')\n",
    "    for charge in payments_to_ignore.split('|'):\n",
    "        print(charge)\n",
    "\n",
    "#     answer = input('\\n Looking at the charges above, anything else you would like to add to the ignore list? (y/n): ')\n",
    "#     assert answer == 'n', 'Add it into line 116!'\n",
    "\n",
    "    df = df.loc[~df['Place'].str.lower().str.contains(payments_to_ignore), :]\n",
    "\n",
    "    ###################################################################################################################\n",
    "    # set up the keywords which will be used to group the charges\n",
    "    ###################################################################################################################\n",
    "\n",
    "    on_the_go_coffee = 'timhortons'\\\n",
    "                    '|starbuck'\\\n",
    "                    '|coffee'\\\n",
    "                    '|timothy'\\\n",
    "                    '|balzac'\\\n",
    "                    '|madawaskacoffee'\\\n",
    "                    '|secondcup'\n",
    "\n",
    "    beer_and_weed = 'lcbo'\\\n",
    "                    '|beerstore'\\\n",
    "                    '|oneplant'\n",
    "\n",
    "    take_out = 'subway'\\\n",
    "            '|domino'\\\n",
    "            '|a&w'\\\n",
    "            '|zoup'\\\n",
    "            '|amazing'\\\n",
    "            '|maestro'\\\n",
    "            '|emily'\\\n",
    "            '|vipei'\\\n",
    "            '|bigbrother'\\\n",
    "            '|booster'\\\n",
    "            '|freshly'\\\n",
    "            '|northwinds'\\\n",
    "            '|jerk'\\\n",
    "            '|milkylane'\\\n",
    "            '|burrito'\\\n",
    "            '|jusdanfoods'\\\n",
    "            '|cornwall'\\\n",
    "            '|bastard'\\\n",
    "            '|rolltation'\\\n",
    "            '|shawarma'\\\n",
    "            '|carleton'\\\n",
    "            '|doordash'\\\n",
    "            '|mcdonald'\\\n",
    "            '|caesar'\\\n",
    "            '|pizza'\\\n",
    "            '|papajohn'\\\n",
    "            '|shakeshack'\\\n",
    "            '|einsteinbrosbagel'\\\n",
    "            '|bagelsvancouver'\n",
    "\n",
    "    bars_and_restaurants = 'jackastor'\\\n",
    "                        '|portly'\\\n",
    "                        '|oldestone'\\\n",
    "                        '|magwyer'\\\n",
    "                        '|kelsey'\\\n",
    "                        '|chuuk'\\\n",
    "                        '|lacarnita'\\\n",
    "                        '|smitty'\\\n",
    "                        '|milestone'\\\n",
    "                        '|wildwing'\\\n",
    "                        '|popeyes'\\\n",
    "                        '|prenup'\\\n",
    "                        '|moose'\\\n",
    "                        '|sabai'\\\n",
    "                        '|borealis'\\\n",
    "                        '|thepint'\\\n",
    "                        '|chicago'\\\n",
    "                        '|spaghetti'\\\n",
    "                        '|bmofield'\\\n",
    "                        '|yummykorean'\\\n",
    "                        '|eggsmart'\\\n",
    "                        '|aokcraft'\\\n",
    "                        '|legendsmusic'\\\n",
    "                        '|aramark'\\\n",
    "                        '|cineplex'\\\n",
    "                        '|bar-main'\\\n",
    "                        '|petitami'\\\n",
    "                        '|brewhouse'\\\n",
    "                        '|irishtimespub'\\\n",
    "                        '|poncho'\\\n",
    "                        '|kingsheadpub'\\\n",
    "                        '|thecentralseattle'\\\n",
    "                        '|chachalounge'\\\n",
    "                        '|jamcafe'\\\n",
    "                        '|superflux'\\\n",
    "                        '|mileoneeatinghouse'\\\n",
    "                        '|trattoria'\n",
    "\n",
    "    clothing = 'zara'\\\n",
    "            '|h&m'\\\n",
    "            '|aeo'\\\n",
    "            '|softmoc'\\\n",
    "            '|vans'\\\n",
    "            '|jack&jones'\\\n",
    "            '|oldnavy'\\\n",
    "            '|sportchek'\\\n",
    "            '|winners'\\\n",
    "            '|spencergifts'\\\n",
    "            '|boathouse'\n",
    "\n",
    "    grocery = 'rcss'\\\n",
    "            '|freshco'\\\n",
    "            '|wal-mart'\\\n",
    "            '|nofrills'\\\n",
    "            '|loblaws'\\\n",
    "            '|zehrs'\\\n",
    "            '|metro'\\\n",
    "            '|foodbasics'\\\n",
    "            '|nikufarms'\\\n",
    "            '|safeway'\n",
    "\n",
    "    gas = 'shell'\\\n",
    "        '|petro'\\\n",
    "        '|macewen barrys'\\\n",
    "        '|pioneer'\\\n",
    "        '|essofowlers'\n",
    "\n",
    "    ###################################################################################################################\n",
    "    # assert that we're not double counting any charges by placing them in multiple categories\n",
    "    ###################################################################################################################\n",
    "\n",
    "    cats = {\n",
    "        'on_the_go_coffee' : on_the_go_coffee,\n",
    "        'take_out' : take_out,\n",
    "        'bars_and_restaurants' : bars_and_restaurants,\n",
    "        'clothing' : clothing,\n",
    "        'grocery' : grocery,\n",
    "        'gas' : gas,\n",
    "        'beer_and_weed' : beer_and_weed\n",
    "    }\n",
    "\n",
    "    for cat1 in cats:\n",
    "        \n",
    "        for cat2 in cats:\n",
    "            \n",
    "            if cat1 == cat2:\n",
    "                continue\n",
    "            else:\n",
    "                for merchant in cats[cat1].split('|'):\n",
    "                    assert merchant not in cats[cat2].split('|'), \\\n",
    "                    f'{cat1} contains duplicate values with {cat2}, duplicate value: {merchant}'\n",
    "\n",
    "                    \n",
    "    ###################################################################################################################\n",
    "    ### show the user what is in each category\n",
    "    ###################################################################################################################\n",
    "\n",
    "    # for i, cat in enumerate(cats):\n",
    "        \n",
    "    #     os.system('cls' if os.name == 'nt' else 'clear')\n",
    "    #     print('\\n')\n",
    "            \n",
    "    #     print(f'{cat}: \\n')\n",
    "    #     for item in cats[cat].split('|'):\n",
    "            \n",
    "    #         print(f'\\t{item}')\n",
    "            \n",
    "    #     answer = input('\\n Does this category look correct? (y/n): ')\n",
    "    #     assert answer == 'y', 'Better change it!'\n",
    "\n",
    "        \n",
    "    ###################################################################################################################\n",
    "    ### show the user what is leftover (i.e. what was not caught by their keywords)\n",
    "    ###################################################################################################################\n",
    "\n",
    "    # clear the terminal screen\n",
    "    os.system('cls' if os.name == 'nt' else 'clear')\n",
    "\n",
    "    # generate full list of categorized charges\n",
    "    full_list = on_the_go_coffee + '|' + beer_and_weed + '|' + take_out + '|' + \\\n",
    "                bars_and_restaurants + '|' + clothing + '|' + grocery + '|' + gas\n",
    "\n",
    "    # use this to find uncategorized charges\n",
    "    tmp = df.loc[~df['Place'].str.lower().str.contains(full_list), ['Place', 'Amount']]\n",
    "    tmp.index = np.arange(1, len(tmp) + 1)\n",
    "    print('\\n\\n', f'{tmp.shape[0]} leftover (uncategorized) charges: \\n\\n', tmp, '\\n\\n')\n",
    "\n",
    "    # check with user that the uncategorized charges are correct\n",
    "#     answer = input('These will all go into the misc category, anything in here that you would like to add to a category? (y/n): ')\n",
    "#     assert answer == 'n', 'Please add to the categories as needed'\n",
    "\n",
    "    # touch up the final version of the misc charges\n",
    "    misc_charges = tmp['Place'].unique()\n",
    "    misc = ''\n",
    "\n",
    "    for misc_charge in misc_charges:\n",
    "        misc = misc + '|' + misc_charge\n",
    "        \n",
    "    misc = misc.strip('|').lower()\n",
    "\n",
    "    ###################################################################################################################\n",
    "    ### aggregate the totals by category, show final output\n",
    "    ###################################################################################################################\n",
    "\n",
    "    # clear the terminal screen\n",
    "    os.system('cls' if os.name == 'nt' else 'clear')\n",
    "\n",
    "    df['category'] = ''\n",
    "    \n",
    "    # aggregate regular categories\n",
    "    cat_names = [cat for cat in cats]\n",
    "    final_df = pd.DataFrame(columns=cat_names)\n",
    "    for cat in cats:\n",
    "        print(cat)\n",
    "        final_df.loc[0, cat] = df.loc[df['Place'].str.lower().str.contains(cats[cat]), 'Amount'].astype('float64').sum()\n",
    "        df['category'] = np.where(df['Place'].str.lower().str.contains(cats[cat]),\n",
    "                                  cat,\n",
    "                                  df['category'])\n",
    "        \n",
    "    df['category'] = np.where(df['category'] == '', 'Misc', df['category'])\n",
    "\n",
    "    # aggregate the misc category\n",
    "    final_df.loc[0, 'misc'] = df.loc[df['Place'].str.lower().str.contains(misc), 'Amount'].astype('float64').sum()\n",
    "\n",
    "    # show output\n",
    "    print('Final result: ', end='\\n\\n')\n",
    "    for col in final_df.columns:\n",
    "        charge = round(final_df[col][0])\n",
    "        print(f'{col} : ${charge}.00')\n",
    "    print('\\n\\n')\n",
    "\n",
    "    return (df, final_df)"
   ]
  },
  {
   "cell_type": "code",
   "execution_count": 5,
   "id": "50828f9f",
   "metadata": {},
   "outputs": [
    {
     "name": "stdout",
     "output_type": "stream",
     "text": [
      "\n",
      " What year are you looking to analyze? \n",
      "\n",
      "2022\n",
      "\n",
      " What month are you looking to analyze? (1 - 12) \n",
      "\n",
      "8\n",
      "\n",
      " Processing data for 22-08... \n",
      "\n",
      "Recurring payments (not included in analysis): \n",
      "\n",
      "\tspotify\n",
      "\tfido\n",
      "\ttsiinternet\n",
      "\tinsurancecompanymarkham\n",
      "\n",
      " Do the recurring payments look correct? (y/n): y\n",
      "\n",
      " All charges: \n",
      "                                    Place    Amount\n",
      "0   WAL-MARTSUPERCENTER#3635SCARBOROUGHON     33.17\n",
      "1            UBERCANADA/UBERTRIPTORONTOON     23.27\n",
      "2               MCDONALD'S#40427TORONTOON      1.31\n",
      "3         EMILY'SPALACECARIBBEANVAUGHANON     19.78\n",
      "4           WESTJET8382169513322CALGARYAB   1474.08\n",
      "5           PETSMARTINC.2009SCARBOROUGHON     -9.03\n",
      "7    PAYBACKWITHPOINTS/PAYEZAVECVOSPOINTS   -200.00\n",
      "8      SHN-CENTENARYHOSPITALSCARBOROUGHON      8.00\n",
      "9        PETROCAN-1514STEELESAVEVAUGHANON     56.98\n",
      "10               GOOGLE*DOMAINSINTERNETNS     19.21\n",
      "11        BESSADAKIAOFAJAXANDPPICKERINGON    500.00\n",
      "12        DOMINOSPIZZA10323905-831-0030ON     29.82\n",
      "15         WINNERSHOMESENSE21701MARKHAMON     19.20\n",
      "16               TIMHORTONS#7656CONCORDON      1.88\n",
      "17       ONEPLANTSCARBOROUGH416-6635683ON     38.54\n",
      "18                   SQ*BAR-MAINTORONTOON     28.00\n",
      "19                   SQ*BAR-MAINTORONTOON     28.00\n",
      "20                   SQ*BAR-MAINTORONTOON     28.00\n",
      "21                 SQ*PIZZAPIZZATORONTOON     24.75\n",
      "22                   SQ*BAR-MAINTORONTOON     14.00\n",
      "23                   SQ*BAR-MAINTORONTOON     14.00\n",
      "24        PAYMENT-THANKYOU/PAIEMENT-MERCI  -1698.70\n",
      "25        PAYMENT-THANKYOU/PAIEMENT-MERCI  -1142.40\n",
      "26                 FUBOTVINC844-4413826NY     24.99\n",
      "27        BESSADAKIAOFAJAXANDPPICKERINGON   -441.00\n",
      "28           ONEPLANTPICKERINGPICKERINGON     11.28\n",
      "29           ONEPLANTPICKERINGPICKERINGON    -15.59\n",
      "30           ONEPLANTPICKERINGPICKERINGON     40.91\n",
      "31           THEBEERSTORE#2478PICKERINGON     17.05\n",
      "32           TIMHORTONS#2413SCARBOROUGHON      5.18\n",
      "33         SPENCERGIFTS#3076SCARBOROUGHON     54.15\n",
      "34           APPLE.COM/BILL866-712-7753ON      1.46\n",
      "35      WAL-MARTSUPERCENTER#3740TORONTOON     63.44\n",
      "36           TIMHORTONS#8434SCARBOROUGHON      7.89\n",
      "37      PAPAJOHN'SPIZZA#127416-543-5000ON     38.05\n",
      "38           TIMHORTONS#3667SCARBOROUGHON     11.48\n",
      "39                JACK&JONESSCARBOROUGHON     79.67\n",
      "40         SPENCERGIFTS#3076SCARBOROUGHON    -30.49\n",
      "41      BOATHOUSESCARBOROUGHSCARBOROUGHON     22.60\n",
      "42          H&MCA#011-SCARBOSCARBOROUGHON     20.33\n",
      "43           TIMHORTONS#9042SCARBOROUGHON      5.18\n",
      "44       ESSOFOWLERSCORNERSPETERBOROUGHON     56.39\n",
      "45              PIANOTE.COMABBOTSFORDSOBC     43.02\n",
      "46                    PETITAMIVANCOUVERBC      8.89\n",
      "47     TRATTORIAITALIANKITCWESTVANCOUVEBC     27.26\n",
      "48        BIKESANDBLADESRENTALVANCOUVERBC     23.10\n",
      "49              SIEGEL'SBAGELSVANCOUVERBC      8.66\n",
      "50       TIMHORTONS#1795#QTHMISSISSAUGAON      5.35\n",
      "51        STANLEYPARKBREWHOUSEVANCOUVERBC     39.54\n",
      "52        STANLEYPARKBREWHOUSEVANCOUVERBC     15.53\n",
      "53         MCDONALD'S#40180Q04VANCOUVERBC     11.66\n",
      "54     CAPILANOSUSPENSIONBRNORTHVANCOUVBC     61.60\n",
      "55                IRISHTIMESPUBVICTORIABC     32.74\n",
      "56          MILEONEEATINGHOUSEPEMBERTONBC     26.18\n",
      "57           BCF-VANIS,SPIRITOFVICTORIABC      2.40\n",
      "58               DOLLARAMA#1326VICTORIABC      7.63\n",
      "59            SUPERFLUX(CABANA)VICTORIABC     62.22\n",
      "60                      JAMCAFEVICTORIABC     42.55\n",
      "61             TIMHORTONS#2902VANCOUVERBC      4.60\n",
      "63          SEEDANDSTONE-FORTSTVICTORIABC     13.44\n",
      "64        PONCHO'SCAFE&CATERINGVICTORIABC     11.40\n",
      "65        PONCHO'SCAFE&CATERINGVICTORIABC      9.99\n",
      "66        PONCHO'SCAFE&CATERINGVICTORIABC      8.88\n",
      "67                KINGSHEADPUBVANCOUVERBC     42.22\n",
      "68              SEATOSKYGONDOLASQUAMISHBC    100.80\n",
      "69              SEATOSKYGONDOLASQUAMISHBC      5.25\n",
      "70              SEATOSKYGONDOLASQUAMISHBC     15.75\n",
      "71                SAFEWAY#4942VANCOUVERBC      6.26\n",
      "72           PARADISEINNGIFTSHOPASHFORDWA      7.19\n",
      "73                    THECENTRALSEATTLEWA      8.89\n",
      "74         TST*CHACHALOUNGEBIMBOSEATTLEWA     12.00\n",
      "75       LSSEATTLESHIRTCOMP120-69481597WA      7.34\n",
      "76                 SQ*SHAKESHACKSEATTLEWA     13.10\n",
      "77        EINSTEINBROSBAGELS2161SEATTLEWA      5.71\n",
      "78        EINSTEINBROSBAGELS2161SEATTLEWA      8.20\n",
      "79           TIMHORTONS#8434SCARBOROUGHON      2.61\n",
      "80        PAYMENT-THANKYOU/PAIEMENT-MERCI   -499.90\n",
      "81           TIMHORTONS#8434SCARBOROUGHON      4.89\n",
      "82      RCSSSCARBOROUGH#2809SCARBOROUGHON    123.40\n",
      "83              PEARLEVISIONSCARBOROUGHON     97.00\n",
      "84        PAYMENT-THANKYOU/PAIEMENT-MERCI   -418.39\n",
      "\n",
      "\n",
      " Ignoring the following charges: \n",
      "\n",
      "westjet\n",
      "paybackwithpoints\n",
      "bessadakia\n",
      "payment-thankyou\n",
      "bestseller\n",
      "\n",
      " Looking at the charges above, anything else you would like to add to the ignore list? (y/n): n\n",
      "\n",
      "\n",
      " 18 leftover (uncategorized) charges: \n",
      "\n",
      "                                  Place  Amount\n",
      "1         UBERCANADA/UBERTRIPTORONTOON   23.27\n",
      "2        PETSMARTINC.2009SCARBOROUGHON   -9.03\n",
      "3   SHN-CENTENARYHOSPITALSCARBOROUGHON    8.00\n",
      "4             GOOGLE*DOMAINSINTERNETNS   19.21\n",
      "5               FUBOTVINC844-4413826NY   24.99\n",
      "6         APPLE.COM/BILL866-712-7753ON    1.46\n",
      "7            PIANOTE.COMABBOTSFORDSOBC   43.02\n",
      "8      BIKESANDBLADESRENTALVANCOUVERBC   23.10\n",
      "9   CAPILANOSUSPENSIONBRNORTHVANCOUVBC   61.60\n",
      "10        BCF-VANIS,SPIRITOFVICTORIABC    2.40\n",
      "11            DOLLARAMA#1326VICTORIABC    7.63\n",
      "12       SEEDANDSTONE-FORTSTVICTORIABC   13.44\n",
      "13           SEATOSKYGONDOLASQUAMISHBC  100.80\n",
      "14           SEATOSKYGONDOLASQUAMISHBC    5.25\n",
      "15           SEATOSKYGONDOLASQUAMISHBC   15.75\n",
      "16        PARADISEINNGIFTSHOPASHFORDWA    7.19\n",
      "17    LSSEATTLESHIRTCOMP120-69481597WA    7.34\n",
      "18           PEARLEVISIONSCARBOROUGHON   97.00 \n",
      "\n",
      "\n",
      "These will all go into the misc category, anything in here that you would like to add to a category? (y/n): n\n",
      "Final result: \n",
      "\n",
      "on_the_go_coffee : $49.00\n",
      "take_out : $161.00\n",
      "bars_and_restaurants : $460.00\n",
      "clothing : $165.00\n",
      "grocery : $226.00\n",
      "gas : $113.00\n",
      "misc : $433.00\n",
      "\n",
      "\n",
      "\n"
     ]
    }
   ],
   "source": [
    "df, df2 = extracting_credit_card_statements()"
   ]
  },
  {
   "cell_type": "code",
   "execution_count": 6,
   "id": "099cd166",
   "metadata": {},
   "outputs": [
    {
     "data": {
      "text/html": [
       "<div>\n",
       "<style scoped>\n",
       "    .dataframe tbody tr th:only-of-type {\n",
       "        vertical-align: middle;\n",
       "    }\n",
       "\n",
       "    .dataframe tbody tr th {\n",
       "        vertical-align: top;\n",
       "    }\n",
       "\n",
       "    .dataframe thead th {\n",
       "        text-align: right;\n",
       "    }\n",
       "</style>\n",
       "<table border=\"1\" class=\"dataframe\">\n",
       "  <thead>\n",
       "    <tr style=\"text-align: right;\">\n",
       "      <th></th>\n",
       "      <th>date</th>\n",
       "      <th>days_into_period</th>\n",
       "      <th>Place</th>\n",
       "      <th>category</th>\n",
       "      <th>Amount</th>\n",
       "    </tr>\n",
       "  </thead>\n",
       "  <tbody>\n",
       "    <tr>\n",
       "      <th>0</th>\n",
       "      <td>2022-07-24</td>\n",
       "      <td>0</td>\n",
       "      <td>WAL-MARTSUPERCENTER#3635SCARBOROUGHON</td>\n",
       "      <td>grocery</td>\n",
       "      <td>33.17</td>\n",
       "    </tr>\n",
       "    <tr>\n",
       "      <th>1</th>\n",
       "      <td>2022-07-26</td>\n",
       "      <td>2</td>\n",
       "      <td>UBERCANADA/UBERTRIPTORONTOON</td>\n",
       "      <td>Misc</td>\n",
       "      <td>23.27</td>\n",
       "    </tr>\n",
       "    <tr>\n",
       "      <th>2</th>\n",
       "      <td>2022-07-26</td>\n",
       "      <td>2</td>\n",
       "      <td>MCDONALD'S#40427TORONTOON</td>\n",
       "      <td>take_out</td>\n",
       "      <td>1.31</td>\n",
       "    </tr>\n",
       "    <tr>\n",
       "      <th>3</th>\n",
       "      <td>2022-07-27</td>\n",
       "      <td>3</td>\n",
       "      <td>EMILY'SPALACECARIBBEANVAUGHANON</td>\n",
       "      <td>take_out</td>\n",
       "      <td>19.78</td>\n",
       "    </tr>\n",
       "    <tr>\n",
       "      <th>5</th>\n",
       "      <td>2022-07-27</td>\n",
       "      <td>3</td>\n",
       "      <td>PETSMARTINC.2009SCARBOROUGHON</td>\n",
       "      <td>Misc</td>\n",
       "      <td>-9.03</td>\n",
       "    </tr>\n",
       "  </tbody>\n",
       "</table>\n",
       "</div>"
      ],
      "text/plain": [
       "        date  days_into_period                                  Place  \\\n",
       "0 2022-07-24                 0  WAL-MARTSUPERCENTER#3635SCARBOROUGHON   \n",
       "1 2022-07-26                 2           UBERCANADA/UBERTRIPTORONTOON   \n",
       "2 2022-07-26                 2              MCDONALD'S#40427TORONTOON   \n",
       "3 2022-07-27                 3        EMILY'SPALACECARIBBEANVAUGHANON   \n",
       "5 2022-07-27                 3          PETSMARTINC.2009SCARBOROUGHON   \n",
       "\n",
       "   category  Amount  \n",
       "0   grocery   33.17  \n",
       "1      Misc   23.27  \n",
       "2  take_out    1.31  \n",
       "3  take_out   19.78  \n",
       "5      Misc   -9.03  "
      ]
     },
     "execution_count": 6,
     "metadata": {},
     "output_type": "execute_result"
    }
   ],
   "source": [
    "df.head()"
   ]
  },
  {
   "cell_type": "code",
   "execution_count": 123,
   "id": "82dc20ff",
   "metadata": {},
   "outputs": [
    {
     "data": {
      "text/html": [
       "<div>\n",
       "<style scoped>\n",
       "    .dataframe tbody tr th:only-of-type {\n",
       "        vertical-align: middle;\n",
       "    }\n",
       "\n",
       "    .dataframe tbody tr th {\n",
       "        vertical-align: top;\n",
       "    }\n",
       "\n",
       "    .dataframe thead th {\n",
       "        text-align: right;\n",
       "    }\n",
       "</style>\n",
       "<table border=\"1\" class=\"dataframe\">\n",
       "  <thead>\n",
       "    <tr style=\"text-align: right;\">\n",
       "      <th></th>\n",
       "      <th>Place</th>\n",
       "      <th>Amount</th>\n",
       "      <th>category</th>\n",
       "      <th>date</th>\n",
       "      <th>days_into_period</th>\n",
       "    </tr>\n",
       "  </thead>\n",
       "  <tbody>\n",
       "    <tr>\n",
       "      <th>1</th>\n",
       "      <td>NOFRILLSDAVE'S#3924SCARBOROUGHON</td>\n",
       "      <td>24.57</td>\n",
       "      <td>grocery</td>\n",
       "      <td>2022-04-27</td>\n",
       "      <td>0</td>\n",
       "    </tr>\n",
       "    <tr>\n",
       "      <th>2</th>\n",
       "      <td>TIMHORTONS#8434SCARBOROUGHON</td>\n",
       "      <td>2.40</td>\n",
       "      <td>on_the_go_coffee</td>\n",
       "      <td>2022-04-27</td>\n",
       "      <td>0</td>\n",
       "    </tr>\n",
       "    <tr>\n",
       "      <th>3</th>\n",
       "      <td>PIONEER#385SCARBOROUGHON</td>\n",
       "      <td>65.59</td>\n",
       "      <td>gas</td>\n",
       "      <td>2022-04-29</td>\n",
       "      <td>2</td>\n",
       "    </tr>\n",
       "    <tr>\n",
       "      <th>4</th>\n",
       "      <td>TIMHORTONS#8434SCARBOROUGHON</td>\n",
       "      <td>5.64</td>\n",
       "      <td>on_the_go_coffee</td>\n",
       "      <td>2022-04-30</td>\n",
       "      <td>3</td>\n",
       "    </tr>\n",
       "    <tr>\n",
       "      <th>5</th>\n",
       "      <td>CHICAGOPUBANDBILLIARDSCAMBRIDGEON</td>\n",
       "      <td>69.52</td>\n",
       "      <td>bars_and_restaurants</td>\n",
       "      <td>2022-04-30</td>\n",
       "      <td>3</td>\n",
       "    </tr>\n",
       "  </tbody>\n",
       "</table>\n",
       "</div>"
      ],
      "text/plain": [
       "                               Place  Amount              category       date  \\\n",
       "1   NOFRILLSDAVE'S#3924SCARBOROUGHON   24.57               grocery 2022-04-27   \n",
       "2       TIMHORTONS#8434SCARBOROUGHON    2.40      on_the_go_coffee 2022-04-27   \n",
       "3           PIONEER#385SCARBOROUGHON   65.59                   gas 2022-04-29   \n",
       "4       TIMHORTONS#8434SCARBOROUGHON    5.64      on_the_go_coffee 2022-04-30   \n",
       "5  CHICAGOPUBANDBILLIARDSCAMBRIDGEON   69.52  bars_and_restaurants 2022-04-30   \n",
       "\n",
       "   days_into_period  \n",
       "1                 0  \n",
       "2                 0  \n",
       "3                 2  \n",
       "4                 3  \n",
       "5                 3  "
      ]
     },
     "execution_count": 123,
     "metadata": {},
     "output_type": "execute_result"
    }
   ],
   "source": [
    "df['date'] = '2022-' + df['Date'].str[:3].str.lower() + '-' + df['Date'].str[3:]\n",
    "df['date'] = pd.to_datetime(df['date'])\n",
    "df = df.drop('Date', axis=1)\n",
    "df['days_into_period'] = (df['date'] - df['date'].min()).dt.days\n",
    "df['Amount'] = df['Amount'].astype('float')\n",
    "df.head()"
   ]
  },
  {
   "cell_type": "code",
   "execution_count": 114,
   "id": "608d3a3b",
   "metadata": {},
   "outputs": [
    {
     "data": {
      "application/vnd.plotly.v1+json": {
       "config": {
        "plotlyServerURL": "https://plot.ly"
       },
       "data": [
        {
         "text": [
          "$331.00",
          "$181.00",
          "$63.00",
          "$69.00",
          "$264.00",
          "$21.00",
          "$86.00"
         ],
         "textposition": "outside",
         "type": "bar",
         "x": [
          "Misc",
          "bars_and_restaurants",
          "beer_and_weed",
          "gas",
          "grocery",
          "on_the_go_coffee",
          "take_out"
         ],
         "y": [
          330.75,
          180.57,
          63.120000000000005,
          68.97,
          264.44,
          21.06,
          85.58
         ]
        }
       ],
       "layout": {
        "template": {
         "data": {
          "bar": [
           {
            "error_x": {
             "color": "#2a3f5f"
            },
            "error_y": {
             "color": "#2a3f5f"
            },
            "marker": {
             "line": {
              "color": "#E5ECF6",
              "width": 0.5
             },
             "pattern": {
              "fillmode": "overlay",
              "size": 10,
              "solidity": 0.2
             }
            },
            "type": "bar"
           }
          ],
          "barpolar": [
           {
            "marker": {
             "line": {
              "color": "#E5ECF6",
              "width": 0.5
             },
             "pattern": {
              "fillmode": "overlay",
              "size": 10,
              "solidity": 0.2
             }
            },
            "type": "barpolar"
           }
          ],
          "carpet": [
           {
            "aaxis": {
             "endlinecolor": "#2a3f5f",
             "gridcolor": "white",
             "linecolor": "white",
             "minorgridcolor": "white",
             "startlinecolor": "#2a3f5f"
            },
            "baxis": {
             "endlinecolor": "#2a3f5f",
             "gridcolor": "white",
             "linecolor": "white",
             "minorgridcolor": "white",
             "startlinecolor": "#2a3f5f"
            },
            "type": "carpet"
           }
          ],
          "choropleth": [
           {
            "colorbar": {
             "outlinewidth": 0,
             "ticks": ""
            },
            "type": "choropleth"
           }
          ],
          "contour": [
           {
            "colorbar": {
             "outlinewidth": 0,
             "ticks": ""
            },
            "colorscale": [
             [
              0,
              "#0d0887"
             ],
             [
              0.1111111111111111,
              "#46039f"
             ],
             [
              0.2222222222222222,
              "#7201a8"
             ],
             [
              0.3333333333333333,
              "#9c179e"
             ],
             [
              0.4444444444444444,
              "#bd3786"
             ],
             [
              0.5555555555555556,
              "#d8576b"
             ],
             [
              0.6666666666666666,
              "#ed7953"
             ],
             [
              0.7777777777777778,
              "#fb9f3a"
             ],
             [
              0.8888888888888888,
              "#fdca26"
             ],
             [
              1,
              "#f0f921"
             ]
            ],
            "type": "contour"
           }
          ],
          "contourcarpet": [
           {
            "colorbar": {
             "outlinewidth": 0,
             "ticks": ""
            },
            "type": "contourcarpet"
           }
          ],
          "heatmap": [
           {
            "colorbar": {
             "outlinewidth": 0,
             "ticks": ""
            },
            "colorscale": [
             [
              0,
              "#0d0887"
             ],
             [
              0.1111111111111111,
              "#46039f"
             ],
             [
              0.2222222222222222,
              "#7201a8"
             ],
             [
              0.3333333333333333,
              "#9c179e"
             ],
             [
              0.4444444444444444,
              "#bd3786"
             ],
             [
              0.5555555555555556,
              "#d8576b"
             ],
             [
              0.6666666666666666,
              "#ed7953"
             ],
             [
              0.7777777777777778,
              "#fb9f3a"
             ],
             [
              0.8888888888888888,
              "#fdca26"
             ],
             [
              1,
              "#f0f921"
             ]
            ],
            "type": "heatmap"
           }
          ],
          "heatmapgl": [
           {
            "colorbar": {
             "outlinewidth": 0,
             "ticks": ""
            },
            "colorscale": [
             [
              0,
              "#0d0887"
             ],
             [
              0.1111111111111111,
              "#46039f"
             ],
             [
              0.2222222222222222,
              "#7201a8"
             ],
             [
              0.3333333333333333,
              "#9c179e"
             ],
             [
              0.4444444444444444,
              "#bd3786"
             ],
             [
              0.5555555555555556,
              "#d8576b"
             ],
             [
              0.6666666666666666,
              "#ed7953"
             ],
             [
              0.7777777777777778,
              "#fb9f3a"
             ],
             [
              0.8888888888888888,
              "#fdca26"
             ],
             [
              1,
              "#f0f921"
             ]
            ],
            "type": "heatmapgl"
           }
          ],
          "histogram": [
           {
            "marker": {
             "pattern": {
              "fillmode": "overlay",
              "size": 10,
              "solidity": 0.2
             }
            },
            "type": "histogram"
           }
          ],
          "histogram2d": [
           {
            "colorbar": {
             "outlinewidth": 0,
             "ticks": ""
            },
            "colorscale": [
             [
              0,
              "#0d0887"
             ],
             [
              0.1111111111111111,
              "#46039f"
             ],
             [
              0.2222222222222222,
              "#7201a8"
             ],
             [
              0.3333333333333333,
              "#9c179e"
             ],
             [
              0.4444444444444444,
              "#bd3786"
             ],
             [
              0.5555555555555556,
              "#d8576b"
             ],
             [
              0.6666666666666666,
              "#ed7953"
             ],
             [
              0.7777777777777778,
              "#fb9f3a"
             ],
             [
              0.8888888888888888,
              "#fdca26"
             ],
             [
              1,
              "#f0f921"
             ]
            ],
            "type": "histogram2d"
           }
          ],
          "histogram2dcontour": [
           {
            "colorbar": {
             "outlinewidth": 0,
             "ticks": ""
            },
            "colorscale": [
             [
              0,
              "#0d0887"
             ],
             [
              0.1111111111111111,
              "#46039f"
             ],
             [
              0.2222222222222222,
              "#7201a8"
             ],
             [
              0.3333333333333333,
              "#9c179e"
             ],
             [
              0.4444444444444444,
              "#bd3786"
             ],
             [
              0.5555555555555556,
              "#d8576b"
             ],
             [
              0.6666666666666666,
              "#ed7953"
             ],
             [
              0.7777777777777778,
              "#fb9f3a"
             ],
             [
              0.8888888888888888,
              "#fdca26"
             ],
             [
              1,
              "#f0f921"
             ]
            ],
            "type": "histogram2dcontour"
           }
          ],
          "mesh3d": [
           {
            "colorbar": {
             "outlinewidth": 0,
             "ticks": ""
            },
            "type": "mesh3d"
           }
          ],
          "parcoords": [
           {
            "line": {
             "colorbar": {
              "outlinewidth": 0,
              "ticks": ""
             }
            },
            "type": "parcoords"
           }
          ],
          "pie": [
           {
            "automargin": true,
            "type": "pie"
           }
          ],
          "scatter": [
           {
            "marker": {
             "colorbar": {
              "outlinewidth": 0,
              "ticks": ""
             }
            },
            "type": "scatter"
           }
          ],
          "scatter3d": [
           {
            "line": {
             "colorbar": {
              "outlinewidth": 0,
              "ticks": ""
             }
            },
            "marker": {
             "colorbar": {
              "outlinewidth": 0,
              "ticks": ""
             }
            },
            "type": "scatter3d"
           }
          ],
          "scattercarpet": [
           {
            "marker": {
             "colorbar": {
              "outlinewidth": 0,
              "ticks": ""
             }
            },
            "type": "scattercarpet"
           }
          ],
          "scattergeo": [
           {
            "marker": {
             "colorbar": {
              "outlinewidth": 0,
              "ticks": ""
             }
            },
            "type": "scattergeo"
           }
          ],
          "scattergl": [
           {
            "marker": {
             "colorbar": {
              "outlinewidth": 0,
              "ticks": ""
             }
            },
            "type": "scattergl"
           }
          ],
          "scattermapbox": [
           {
            "marker": {
             "colorbar": {
              "outlinewidth": 0,
              "ticks": ""
             }
            },
            "type": "scattermapbox"
           }
          ],
          "scatterpolar": [
           {
            "marker": {
             "colorbar": {
              "outlinewidth": 0,
              "ticks": ""
             }
            },
            "type": "scatterpolar"
           }
          ],
          "scatterpolargl": [
           {
            "marker": {
             "colorbar": {
              "outlinewidth": 0,
              "ticks": ""
             }
            },
            "type": "scatterpolargl"
           }
          ],
          "scatterternary": [
           {
            "marker": {
             "colorbar": {
              "outlinewidth": 0,
              "ticks": ""
             }
            },
            "type": "scatterternary"
           }
          ],
          "surface": [
           {
            "colorbar": {
             "outlinewidth": 0,
             "ticks": ""
            },
            "colorscale": [
             [
              0,
              "#0d0887"
             ],
             [
              0.1111111111111111,
              "#46039f"
             ],
             [
              0.2222222222222222,
              "#7201a8"
             ],
             [
              0.3333333333333333,
              "#9c179e"
             ],
             [
              0.4444444444444444,
              "#bd3786"
             ],
             [
              0.5555555555555556,
              "#d8576b"
             ],
             [
              0.6666666666666666,
              "#ed7953"
             ],
             [
              0.7777777777777778,
              "#fb9f3a"
             ],
             [
              0.8888888888888888,
              "#fdca26"
             ],
             [
              1,
              "#f0f921"
             ]
            ],
            "type": "surface"
           }
          ],
          "table": [
           {
            "cells": {
             "fill": {
              "color": "#EBF0F8"
             },
             "line": {
              "color": "white"
             }
            },
            "header": {
             "fill": {
              "color": "#C8D4E3"
             },
             "line": {
              "color": "white"
             }
            },
            "type": "table"
           }
          ]
         },
         "layout": {
          "annotationdefaults": {
           "arrowcolor": "#2a3f5f",
           "arrowhead": 0,
           "arrowwidth": 1
          },
          "autotypenumbers": "strict",
          "coloraxis": {
           "colorbar": {
            "outlinewidth": 0,
            "ticks": ""
           }
          },
          "colorscale": {
           "diverging": [
            [
             0,
             "#8e0152"
            ],
            [
             0.1,
             "#c51b7d"
            ],
            [
             0.2,
             "#de77ae"
            ],
            [
             0.3,
             "#f1b6da"
            ],
            [
             0.4,
             "#fde0ef"
            ],
            [
             0.5,
             "#f7f7f7"
            ],
            [
             0.6,
             "#e6f5d0"
            ],
            [
             0.7,
             "#b8e186"
            ],
            [
             0.8,
             "#7fbc41"
            ],
            [
             0.9,
             "#4d9221"
            ],
            [
             1,
             "#276419"
            ]
           ],
           "sequential": [
            [
             0,
             "#0d0887"
            ],
            [
             0.1111111111111111,
             "#46039f"
            ],
            [
             0.2222222222222222,
             "#7201a8"
            ],
            [
             0.3333333333333333,
             "#9c179e"
            ],
            [
             0.4444444444444444,
             "#bd3786"
            ],
            [
             0.5555555555555556,
             "#d8576b"
            ],
            [
             0.6666666666666666,
             "#ed7953"
            ],
            [
             0.7777777777777778,
             "#fb9f3a"
            ],
            [
             0.8888888888888888,
             "#fdca26"
            ],
            [
             1,
             "#f0f921"
            ]
           ],
           "sequentialminus": [
            [
             0,
             "#0d0887"
            ],
            [
             0.1111111111111111,
             "#46039f"
            ],
            [
             0.2222222222222222,
             "#7201a8"
            ],
            [
             0.3333333333333333,
             "#9c179e"
            ],
            [
             0.4444444444444444,
             "#bd3786"
            ],
            [
             0.5555555555555556,
             "#d8576b"
            ],
            [
             0.6666666666666666,
             "#ed7953"
            ],
            [
             0.7777777777777778,
             "#fb9f3a"
            ],
            [
             0.8888888888888888,
             "#fdca26"
            ],
            [
             1,
             "#f0f921"
            ]
           ]
          },
          "colorway": [
           "#636efa",
           "#EF553B",
           "#00cc96",
           "#ab63fa",
           "#FFA15A",
           "#19d3f3",
           "#FF6692",
           "#B6E880",
           "#FF97FF",
           "#FECB52"
          ],
          "font": {
           "color": "#2a3f5f"
          },
          "geo": {
           "bgcolor": "white",
           "lakecolor": "white",
           "landcolor": "#E5ECF6",
           "showlakes": true,
           "showland": true,
           "subunitcolor": "white"
          },
          "hoverlabel": {
           "align": "left"
          },
          "hovermode": "closest",
          "mapbox": {
           "style": "light"
          },
          "paper_bgcolor": "white",
          "plot_bgcolor": "#E5ECF6",
          "polar": {
           "angularaxis": {
            "gridcolor": "white",
            "linecolor": "white",
            "ticks": ""
           },
           "bgcolor": "#E5ECF6",
           "radialaxis": {
            "gridcolor": "white",
            "linecolor": "white",
            "ticks": ""
           }
          },
          "scene": {
           "xaxis": {
            "backgroundcolor": "#E5ECF6",
            "gridcolor": "white",
            "gridwidth": 2,
            "linecolor": "white",
            "showbackground": true,
            "ticks": "",
            "zerolinecolor": "white"
           },
           "yaxis": {
            "backgroundcolor": "#E5ECF6",
            "gridcolor": "white",
            "gridwidth": 2,
            "linecolor": "white",
            "showbackground": true,
            "ticks": "",
            "zerolinecolor": "white"
           },
           "zaxis": {
            "backgroundcolor": "#E5ECF6",
            "gridcolor": "white",
            "gridwidth": 2,
            "linecolor": "white",
            "showbackground": true,
            "ticks": "",
            "zerolinecolor": "white"
           }
          },
          "shapedefaults": {
           "line": {
            "color": "#2a3f5f"
           }
          },
          "ternary": {
           "aaxis": {
            "gridcolor": "white",
            "linecolor": "white",
            "ticks": ""
           },
           "baxis": {
            "gridcolor": "white",
            "linecolor": "white",
            "ticks": ""
           },
           "bgcolor": "#E5ECF6",
           "caxis": {
            "gridcolor": "white",
            "linecolor": "white",
            "ticks": ""
           }
          },
          "title": {
           "x": 0.05
          },
          "xaxis": {
           "automargin": true,
           "gridcolor": "white",
           "linecolor": "white",
           "ticks": "",
           "title": {
            "standoff": 15
           },
           "zerolinecolor": "white",
           "zerolinewidth": 2
          },
          "yaxis": {
           "automargin": true,
           "gridcolor": "white",
           "linecolor": "white",
           "ticks": "",
           "title": {
            "standoff": 15
           },
           "zerolinecolor": "white",
           "zerolinewidth": 2
          }
         }
        },
        "title": {
         "text": "Visualization of Charges by Category"
        },
        "updatemenus": [
         {
          "buttons": [
           {
            "args": [
             null
            ],
            "label": "Play",
            "method": "animate"
           }
          ],
          "type": "buttons"
         }
        ],
        "yaxis": {
         "title": {
          "text": "Charges"
         }
        }
       }
      },
      "text/html": [
       "<div>                            <div id=\"cb60a004-2858-41a1-947f-945a5d0c7a8f\" class=\"plotly-graph-div\" style=\"height:525px; width:100%;\"></div>            <script type=\"text/javascript\">                require([\"plotly\"], function(Plotly) {                    window.PLOTLYENV=window.PLOTLYENV || {};                                    if (document.getElementById(\"cb60a004-2858-41a1-947f-945a5d0c7a8f\")) {                    Plotly.newPlot(                        \"cb60a004-2858-41a1-947f-945a5d0c7a8f\",                        [{\"text\":[\"$331.00\",\"$181.00\",\"$63.00\",\"$69.00\",\"$264.00\",\"$21.00\",\"$86.00\"],\"textposition\":\"outside\",\"x\":[\"Misc\",\"bars_and_restaurants\",\"beer_and_weed\",\"gas\",\"grocery\",\"on_the_go_coffee\",\"take_out\"],\"y\":[330.75,180.57,63.120000000000005,68.97,264.44,21.06,85.58],\"type\":\"bar\"}],                        {\"template\":{\"data\":{\"bar\":[{\"error_x\":{\"color\":\"#2a3f5f\"},\"error_y\":{\"color\":\"#2a3f5f\"},\"marker\":{\"line\":{\"color\":\"#E5ECF6\",\"width\":0.5},\"pattern\":{\"fillmode\":\"overlay\",\"size\":10,\"solidity\":0.2}},\"type\":\"bar\"}],\"barpolar\":[{\"marker\":{\"line\":{\"color\":\"#E5ECF6\",\"width\":0.5},\"pattern\":{\"fillmode\":\"overlay\",\"size\":10,\"solidity\":0.2}},\"type\":\"barpolar\"}],\"carpet\":[{\"aaxis\":{\"endlinecolor\":\"#2a3f5f\",\"gridcolor\":\"white\",\"linecolor\":\"white\",\"minorgridcolor\":\"white\",\"startlinecolor\":\"#2a3f5f\"},\"baxis\":{\"endlinecolor\":\"#2a3f5f\",\"gridcolor\":\"white\",\"linecolor\":\"white\",\"minorgridcolor\":\"white\",\"startlinecolor\":\"#2a3f5f\"},\"type\":\"carpet\"}],\"choropleth\":[{\"colorbar\":{\"outlinewidth\":0,\"ticks\":\"\"},\"type\":\"choropleth\"}],\"contour\":[{\"colorbar\":{\"outlinewidth\":0,\"ticks\":\"\"},\"colorscale\":[[0.0,\"#0d0887\"],[0.1111111111111111,\"#46039f\"],[0.2222222222222222,\"#7201a8\"],[0.3333333333333333,\"#9c179e\"],[0.4444444444444444,\"#bd3786\"],[0.5555555555555556,\"#d8576b\"],[0.6666666666666666,\"#ed7953\"],[0.7777777777777778,\"#fb9f3a\"],[0.8888888888888888,\"#fdca26\"],[1.0,\"#f0f921\"]],\"type\":\"contour\"}],\"contourcarpet\":[{\"colorbar\":{\"outlinewidth\":0,\"ticks\":\"\"},\"type\":\"contourcarpet\"}],\"heatmap\":[{\"colorbar\":{\"outlinewidth\":0,\"ticks\":\"\"},\"colorscale\":[[0.0,\"#0d0887\"],[0.1111111111111111,\"#46039f\"],[0.2222222222222222,\"#7201a8\"],[0.3333333333333333,\"#9c179e\"],[0.4444444444444444,\"#bd3786\"],[0.5555555555555556,\"#d8576b\"],[0.6666666666666666,\"#ed7953\"],[0.7777777777777778,\"#fb9f3a\"],[0.8888888888888888,\"#fdca26\"],[1.0,\"#f0f921\"]],\"type\":\"heatmap\"}],\"heatmapgl\":[{\"colorbar\":{\"outlinewidth\":0,\"ticks\":\"\"},\"colorscale\":[[0.0,\"#0d0887\"],[0.1111111111111111,\"#46039f\"],[0.2222222222222222,\"#7201a8\"],[0.3333333333333333,\"#9c179e\"],[0.4444444444444444,\"#bd3786\"],[0.5555555555555556,\"#d8576b\"],[0.6666666666666666,\"#ed7953\"],[0.7777777777777778,\"#fb9f3a\"],[0.8888888888888888,\"#fdca26\"],[1.0,\"#f0f921\"]],\"type\":\"heatmapgl\"}],\"histogram\":[{\"marker\":{\"pattern\":{\"fillmode\":\"overlay\",\"size\":10,\"solidity\":0.2}},\"type\":\"histogram\"}],\"histogram2d\":[{\"colorbar\":{\"outlinewidth\":0,\"ticks\":\"\"},\"colorscale\":[[0.0,\"#0d0887\"],[0.1111111111111111,\"#46039f\"],[0.2222222222222222,\"#7201a8\"],[0.3333333333333333,\"#9c179e\"],[0.4444444444444444,\"#bd3786\"],[0.5555555555555556,\"#d8576b\"],[0.6666666666666666,\"#ed7953\"],[0.7777777777777778,\"#fb9f3a\"],[0.8888888888888888,\"#fdca26\"],[1.0,\"#f0f921\"]],\"type\":\"histogram2d\"}],\"histogram2dcontour\":[{\"colorbar\":{\"outlinewidth\":0,\"ticks\":\"\"},\"colorscale\":[[0.0,\"#0d0887\"],[0.1111111111111111,\"#46039f\"],[0.2222222222222222,\"#7201a8\"],[0.3333333333333333,\"#9c179e\"],[0.4444444444444444,\"#bd3786\"],[0.5555555555555556,\"#d8576b\"],[0.6666666666666666,\"#ed7953\"],[0.7777777777777778,\"#fb9f3a\"],[0.8888888888888888,\"#fdca26\"],[1.0,\"#f0f921\"]],\"type\":\"histogram2dcontour\"}],\"mesh3d\":[{\"colorbar\":{\"outlinewidth\":0,\"ticks\":\"\"},\"type\":\"mesh3d\"}],\"parcoords\":[{\"line\":{\"colorbar\":{\"outlinewidth\":0,\"ticks\":\"\"}},\"type\":\"parcoords\"}],\"pie\":[{\"automargin\":true,\"type\":\"pie\"}],\"scatter\":[{\"marker\":{\"colorbar\":{\"outlinewidth\":0,\"ticks\":\"\"}},\"type\":\"scatter\"}],\"scatter3d\":[{\"line\":{\"colorbar\":{\"outlinewidth\":0,\"ticks\":\"\"}},\"marker\":{\"colorbar\":{\"outlinewidth\":0,\"ticks\":\"\"}},\"type\":\"scatter3d\"}],\"scattercarpet\":[{\"marker\":{\"colorbar\":{\"outlinewidth\":0,\"ticks\":\"\"}},\"type\":\"scattercarpet\"}],\"scattergeo\":[{\"marker\":{\"colorbar\":{\"outlinewidth\":0,\"ticks\":\"\"}},\"type\":\"scattergeo\"}],\"scattergl\":[{\"marker\":{\"colorbar\":{\"outlinewidth\":0,\"ticks\":\"\"}},\"type\":\"scattergl\"}],\"scattermapbox\":[{\"marker\":{\"colorbar\":{\"outlinewidth\":0,\"ticks\":\"\"}},\"type\":\"scattermapbox\"}],\"scatterpolar\":[{\"marker\":{\"colorbar\":{\"outlinewidth\":0,\"ticks\":\"\"}},\"type\":\"scatterpolar\"}],\"scatterpolargl\":[{\"marker\":{\"colorbar\":{\"outlinewidth\":0,\"ticks\":\"\"}},\"type\":\"scatterpolargl\"}],\"scatterternary\":[{\"marker\":{\"colorbar\":{\"outlinewidth\":0,\"ticks\":\"\"}},\"type\":\"scatterternary\"}],\"surface\":[{\"colorbar\":{\"outlinewidth\":0,\"ticks\":\"\"},\"colorscale\":[[0.0,\"#0d0887\"],[0.1111111111111111,\"#46039f\"],[0.2222222222222222,\"#7201a8\"],[0.3333333333333333,\"#9c179e\"],[0.4444444444444444,\"#bd3786\"],[0.5555555555555556,\"#d8576b\"],[0.6666666666666666,\"#ed7953\"],[0.7777777777777778,\"#fb9f3a\"],[0.8888888888888888,\"#fdca26\"],[1.0,\"#f0f921\"]],\"type\":\"surface\"}],\"table\":[{\"cells\":{\"fill\":{\"color\":\"#EBF0F8\"},\"line\":{\"color\":\"white\"}},\"header\":{\"fill\":{\"color\":\"#C8D4E3\"},\"line\":{\"color\":\"white\"}},\"type\":\"table\"}]},\"layout\":{\"annotationdefaults\":{\"arrowcolor\":\"#2a3f5f\",\"arrowhead\":0,\"arrowwidth\":1},\"autotypenumbers\":\"strict\",\"coloraxis\":{\"colorbar\":{\"outlinewidth\":0,\"ticks\":\"\"}},\"colorscale\":{\"diverging\":[[0,\"#8e0152\"],[0.1,\"#c51b7d\"],[0.2,\"#de77ae\"],[0.3,\"#f1b6da\"],[0.4,\"#fde0ef\"],[0.5,\"#f7f7f7\"],[0.6,\"#e6f5d0\"],[0.7,\"#b8e186\"],[0.8,\"#7fbc41\"],[0.9,\"#4d9221\"],[1,\"#276419\"]],\"sequential\":[[0.0,\"#0d0887\"],[0.1111111111111111,\"#46039f\"],[0.2222222222222222,\"#7201a8\"],[0.3333333333333333,\"#9c179e\"],[0.4444444444444444,\"#bd3786\"],[0.5555555555555556,\"#d8576b\"],[0.6666666666666666,\"#ed7953\"],[0.7777777777777778,\"#fb9f3a\"],[0.8888888888888888,\"#fdca26\"],[1.0,\"#f0f921\"]],\"sequentialminus\":[[0.0,\"#0d0887\"],[0.1111111111111111,\"#46039f\"],[0.2222222222222222,\"#7201a8\"],[0.3333333333333333,\"#9c179e\"],[0.4444444444444444,\"#bd3786\"],[0.5555555555555556,\"#d8576b\"],[0.6666666666666666,\"#ed7953\"],[0.7777777777777778,\"#fb9f3a\"],[0.8888888888888888,\"#fdca26\"],[1.0,\"#f0f921\"]]},\"colorway\":[\"#636efa\",\"#EF553B\",\"#00cc96\",\"#ab63fa\",\"#FFA15A\",\"#19d3f3\",\"#FF6692\",\"#B6E880\",\"#FF97FF\",\"#FECB52\"],\"font\":{\"color\":\"#2a3f5f\"},\"geo\":{\"bgcolor\":\"white\",\"lakecolor\":\"white\",\"landcolor\":\"#E5ECF6\",\"showlakes\":true,\"showland\":true,\"subunitcolor\":\"white\"},\"hoverlabel\":{\"align\":\"left\"},\"hovermode\":\"closest\",\"mapbox\":{\"style\":\"light\"},\"paper_bgcolor\":\"white\",\"plot_bgcolor\":\"#E5ECF6\",\"polar\":{\"angularaxis\":{\"gridcolor\":\"white\",\"linecolor\":\"white\",\"ticks\":\"\"},\"bgcolor\":\"#E5ECF6\",\"radialaxis\":{\"gridcolor\":\"white\",\"linecolor\":\"white\",\"ticks\":\"\"}},\"scene\":{\"xaxis\":{\"backgroundcolor\":\"#E5ECF6\",\"gridcolor\":\"white\",\"gridwidth\":2,\"linecolor\":\"white\",\"showbackground\":true,\"ticks\":\"\",\"zerolinecolor\":\"white\"},\"yaxis\":{\"backgroundcolor\":\"#E5ECF6\",\"gridcolor\":\"white\",\"gridwidth\":2,\"linecolor\":\"white\",\"showbackground\":true,\"ticks\":\"\",\"zerolinecolor\":\"white\"},\"zaxis\":{\"backgroundcolor\":\"#E5ECF6\",\"gridcolor\":\"white\",\"gridwidth\":2,\"linecolor\":\"white\",\"showbackground\":true,\"ticks\":\"\",\"zerolinecolor\":\"white\"}},\"shapedefaults\":{\"line\":{\"color\":\"#2a3f5f\"}},\"ternary\":{\"aaxis\":{\"gridcolor\":\"white\",\"linecolor\":\"white\",\"ticks\":\"\"},\"baxis\":{\"gridcolor\":\"white\",\"linecolor\":\"white\",\"ticks\":\"\"},\"bgcolor\":\"#E5ECF6\",\"caxis\":{\"gridcolor\":\"white\",\"linecolor\":\"white\",\"ticks\":\"\"}},\"title\":{\"x\":0.05},\"xaxis\":{\"automargin\":true,\"gridcolor\":\"white\",\"linecolor\":\"white\",\"ticks\":\"\",\"title\":{\"standoff\":15},\"zerolinecolor\":\"white\",\"zerolinewidth\":2},\"yaxis\":{\"automargin\":true,\"gridcolor\":\"white\",\"linecolor\":\"white\",\"ticks\":\"\",\"title\":{\"standoff\":15},\"zerolinecolor\":\"white\",\"zerolinewidth\":2}}},\"title\":{\"text\":\"Visualization of Charges by Category\"},\"updatemenus\":[{\"buttons\":[{\"args\":[null],\"label\":\"Play\",\"method\":\"animate\"}],\"type\":\"buttons\"}],\"yaxis\":{\"title\":{\"text\":\"Charges\"}}},                        {\"responsive\": true}                    ).then(function(){\n",
       "                            \n",
       "var gd = document.getElementById('cb60a004-2858-41a1-947f-945a5d0c7a8f');\n",
       "var x = new MutationObserver(function (mutations, observer) {{\n",
       "        var display = window.getComputedStyle(gd).display;\n",
       "        if (!display || display === 'none') {{\n",
       "            console.log([gd, 'removed!']);\n",
       "            Plotly.purge(gd);\n",
       "            observer.disconnect();\n",
       "        }}\n",
       "}});\n",
       "\n",
       "// Listen for the removal of the full notebook cells\n",
       "var notebookContainer = gd.closest('#notebook-container');\n",
       "if (notebookContainer) {{\n",
       "    x.observe(notebookContainer, {childList: true});\n",
       "}}\n",
       "\n",
       "// Listen for the clearing of the current output cell\n",
       "var outputEl = gd.closest('.output');\n",
       "if (outputEl) {{\n",
       "    x.observe(outputEl, {childList: true});\n",
       "}}\n",
       "\n",
       "                        })                };                });            </script>        </div>"
      ]
     },
     "metadata": {},
     "output_type": "display_data"
    }
   ],
   "source": [
    "fig = go.Figure()\n",
    "\n",
    "tmp = df.groupby('category').sum().reset_index()[['category', 'Amount']]\n",
    "tmp['amount_txt'] = round(tmp['Amount'])\n",
    "tmp['amount_txt'] = '$' + tmp['amount_txt'].astype('str') + '0'\n",
    "\n",
    "trace1 = go.Bar(x=tmp['category'], y=tmp['Amount'], text=tmp['amount_txt'], textposition='outside')\n",
    "\n",
    "fig.add_trace(trace1)\n",
    "\n",
    "fig.update_layout(title='Visualization of Charges by Category',\n",
    "                  updatemenus=[dict(\n",
    "            type=\"buttons\",\n",
    "            buttons=[dict(label=\"Play\",\n",
    "                          method=\"animate\",\n",
    "                          args=[None])])]\n",
    "    )\n",
    "fig.update_yaxes(title='Charges')\n",
    "fig.show()"
   ]
  },
  {
   "cell_type": "code",
   "execution_count": null,
   "id": "d082c607",
   "metadata": {},
   "outputs": [],
   "source": []
  },
  {
   "cell_type": "code",
   "execution_count": 144,
   "id": "35a680f6",
   "metadata": {},
   "outputs": [],
   "source": [
    "tmp = df.groupby('category').sum().reset_index()[['category', 'Amount']]\n",
    "tmp['amount_txt'] = round(tmp['Amount'])\n",
    "tmp['amount_txt'] = '$' + tmp['amount_txt'].astype('str') + '0'\n",
    "trace1 = go.Bar(x=tmp['category'], y=tmp['Amount'], text=tmp['amount_txt'], textposition='outside')\n",
    "\n",
    "ymax = tmp['Amount'].max() * 1.2\n",
    "\n",
    "\n",
    "frames_test = []\n",
    "for i in range(32):\n",
    "    tmp = df.loc[df['days_into_period'] <= i, :]\n",
    "    tmp = tmp.groupby('category').sum().reset_index()[['category', 'Amount']]\n",
    "    tmp['amount_txt'] = round(tmp['Amount'])\n",
    "    tmp['amount_txt'] = '$' + tmp['amount_txt'].astype('str') + '0'\n",
    "    \n",
    "    frames_test.append(go.Frame(\n",
    "        data=[\n",
    "            go.Bar(x=tmp['category'], y=tmp['Amount'], text=tmp['amount_txt'], textposition='outside')\n",
    "        ]))"
   ]
  },
  {
   "cell_type": "code",
   "execution_count": 146,
   "id": "efc58c6b",
   "metadata": {},
   "outputs": [
    {
     "data": {
      "text/plain": [
       "396.9"
      ]
     },
     "execution_count": 146,
     "metadata": {},
     "output_type": "execute_result"
    }
   ],
   "source": [
    "ymax"
   ]
  },
  {
   "cell_type": "code",
   "execution_count": 147,
   "id": "50f1dfcd",
   "metadata": {},
   "outputs": [
    {
     "data": {
      "application/vnd.plotly.v1+json": {
       "config": {
        "plotlyServerURL": "https://plot.ly"
       },
       "data": [
        {
         "text": [
          "$331.00",
          "$181.00",
          "$63.00",
          "$69.00",
          "$264.00",
          "$21.00",
          "$86.00"
         ],
         "textposition": "outside",
         "type": "bar",
         "x": [
          "Misc",
          "bars_and_restaurants",
          "beer_and_weed",
          "gas",
          "grocery",
          "on_the_go_coffee",
          "take_out"
         ],
         "y": [
          330.75,
          180.57,
          63.120000000000005,
          68.97,
          264.44,
          21.06,
          85.58
         ]
        }
       ],
       "frames": [
        {
         "data": [
          {
           "text": [
            "$25.00",
            "$2.00"
           ],
           "textposition": "outside",
           "type": "bar",
           "x": [
            "grocery",
            "on_the_go_coffee"
           ],
           "y": [
            24.57,
            2.4
           ]
          }
         ]
        },
        {
         "data": [
          {
           "text": [
            "$25.00",
            "$2.00"
           ],
           "textposition": "outside",
           "type": "bar",
           "x": [
            "grocery",
            "on_the_go_coffee"
           ],
           "y": [
            24.57,
            2.4
           ]
          }
         ]
        },
        {
         "data": [
          {
           "text": [
            "$66.00",
            "$25.00",
            "$2.00"
           ],
           "textposition": "outside",
           "type": "bar",
           "x": [
            "gas",
            "grocery",
            "on_the_go_coffee"
           ],
           "y": [
            65.59,
            24.57,
            2.4
           ]
          }
         ]
        },
        {
         "data": [
          {
           "text": [
            "$70.00",
            "$22.00",
            "$66.00",
            "$25.00",
            "$10.00"
           ],
           "textposition": "outside",
           "type": "bar",
           "x": [
            "bars_and_restaurants",
            "beer_and_weed",
            "gas",
            "grocery",
            "on_the_go_coffee"
           ],
           "y": [
            69.52,
            21.95,
            65.59,
            24.57,
            9.96
           ]
          }
         ]
        },
        {
         "data": [
          {
           "text": [
            "$70.00",
            "$22.00",
            "$66.00",
            "$132.00",
            "$10.00"
           ],
           "textposition": "outside",
           "type": "bar",
           "x": [
            "bars_and_restaurants",
            "beer_and_weed",
            "gas",
            "grocery",
            "on_the_go_coffee"
           ],
           "y": [
            69.52,
            21.95,
            65.59,
            131.73,
            9.96
           ]
          }
         ]
        },
        {
         "data": [
          {
           "text": [
            "$70.00",
            "$22.00",
            "$66.00",
            "$132.00",
            "$10.00"
           ],
           "textposition": "outside",
           "type": "bar",
           "x": [
            "bars_and_restaurants",
            "beer_and_weed",
            "gas",
            "grocery",
            "on_the_go_coffee"
           ],
           "y": [
            69.52,
            21.95,
            65.59,
            131.73,
            9.96
           ]
          }
         ]
        },
        {
         "data": [
          {
           "text": [
            "$70.00",
            "$22.00",
            "$66.00",
            "$132.00",
            "$10.00"
           ],
           "textposition": "outside",
           "type": "bar",
           "x": [
            "bars_and_restaurants",
            "beer_and_weed",
            "gas",
            "grocery",
            "on_the_go_coffee"
           ],
           "y": [
            69.52,
            21.95,
            65.59,
            131.73,
            9.96
           ]
          }
         ]
        },
        {
         "data": [
          {
           "text": [
            "$70.00",
            "$22.00",
            "$66.00",
            "$132.00",
            "$10.00"
           ],
           "textposition": "outside",
           "type": "bar",
           "x": [
            "bars_and_restaurants",
            "beer_and_weed",
            "gas",
            "grocery",
            "on_the_go_coffee"
           ],
           "y": [
            69.52,
            21.95,
            65.59,
            131.73,
            9.96
           ]
          }
         ]
        },
        {
         "data": [
          {
           "text": [
            "$70.00",
            "$22.00",
            "$66.00",
            "$132.00",
            "$15.00"
           ],
           "textposition": "outside",
           "type": "bar",
           "x": [
            "bars_and_restaurants",
            "beer_and_weed",
            "gas",
            "grocery",
            "on_the_go_coffee"
           ],
           "y": [
            69.52,
            21.95,
            65.59,
            131.73,
            15.42
           ]
          }
         ]
        },
        {
         "data": [
          {
           "text": [
            "$70.00",
            "$22.00",
            "$66.00",
            "$289.00",
            "$15.00",
            "$6.00"
           ],
           "textposition": "outside",
           "type": "bar",
           "x": [
            "bars_and_restaurants",
            "beer_and_weed",
            "gas",
            "grocery",
            "on_the_go_coffee",
            "take_out"
           ],
           "y": [
            69.52,
            21.95,
            65.59,
            288.78,
            15.42,
            6
           ]
          }
         ]
        },
        {
         "data": [
          {
           "text": [
            "$1.00",
            "$70.00",
            "$31.00",
            "$66.00",
            "$303.00",
            "$15.00",
            "$6.00"
           ],
           "textposition": "outside",
           "type": "bar",
           "x": [
            "Misc",
            "bars_and_restaurants",
            "beer_and_weed",
            "gas",
            "grocery",
            "on_the_go_coffee",
            "take_out"
           ],
           "y": [
            1.46,
            69.52,
            30.52,
            65.59,
            303.46,
            15.42,
            6
           ]
          }
         ]
        },
        {
         "data": [
          {
           "text": [
            "$1.00",
            "$70.00",
            "$31.00",
            "$66.00",
            "$303.00",
            "$15.00",
            "$6.00"
           ],
           "textposition": "outside",
           "type": "bar",
           "x": [
            "Misc",
            "bars_and_restaurants",
            "beer_and_weed",
            "gas",
            "grocery",
            "on_the_go_coffee",
            "take_out"
           ],
           "y": [
            1.46,
            69.52,
            30.52,
            65.59,
            303.46,
            15.42,
            6
           ]
          }
         ]
        },
        {
         "data": [
          {
           "text": [
            "$1.00",
            "$70.00",
            "$31.00",
            "$66.00",
            "$152.00",
            "$15.00",
            "$6.00"
           ],
           "textposition": "outside",
           "type": "bar",
           "x": [
            "Misc",
            "bars_and_restaurants",
            "beer_and_weed",
            "gas",
            "grocery",
            "on_the_go_coffee",
            "take_out"
           ],
           "y": [
            1.46,
            69.52,
            30.52,
            65.59,
            151.5,
            15.42,
            6
           ]
          }
         ]
        },
        {
         "data": [
          {
           "text": [
            "$1.00",
            "$70.00",
            "$31.00",
            "$66.00",
            "$152.00",
            "$15.00",
            "$6.00"
           ],
           "textposition": "outside",
           "type": "bar",
           "x": [
            "Misc",
            "bars_and_restaurants",
            "beer_and_weed",
            "gas",
            "grocery",
            "on_the_go_coffee",
            "take_out"
           ],
           "y": [
            1.46,
            69.52,
            30.52,
            65.59,
            151.5,
            15.42,
            6
           ]
          }
         ]
        },
        {
         "data": [
          {
           "text": [
            "$1.00",
            "$70.00",
            "$31.00",
            "$66.00",
            "$152.00",
            "$15.00",
            "$6.00"
           ],
           "textposition": "outside",
           "type": "bar",
           "x": [
            "Misc",
            "bars_and_restaurants",
            "beer_and_weed",
            "gas",
            "grocery",
            "on_the_go_coffee",
            "take_out"
           ],
           "y": [
            1.46,
            69.52,
            30.52,
            65.59,
            151.5,
            15.42,
            6
           ]
          }
         ]
        },
        {
         "data": [
          {
           "text": [
            "$1.00",
            "$70.00",
            "$31.00",
            "$66.00",
            "$372.00",
            "$15.00",
            "$6.00"
           ],
           "textposition": "outside",
           "type": "bar",
           "x": [
            "Misc",
            "bars_and_restaurants",
            "beer_and_weed",
            "gas",
            "grocery",
            "on_the_go_coffee",
            "take_out"
           ],
           "y": [
            1.46,
            69.52,
            30.52,
            65.59,
            371.5,
            15.42,
            6
           ]
          }
         ]
        },
        {
         "data": [
          {
           "text": [
            "$1.00",
            "$70.00",
            "$31.00",
            "$66.00",
            "$372.00",
            "$15.00",
            "$6.00"
           ],
           "textposition": "outside",
           "type": "bar",
           "x": [
            "Misc",
            "bars_and_restaurants",
            "beer_and_weed",
            "gas",
            "grocery",
            "on_the_go_coffee",
            "take_out"
           ],
           "y": [
            1.46,
            69.52,
            30.52,
            65.59,
            371.5,
            15.42,
            6
           ]
          }
         ]
        },
        {
         "data": [
          {
           "text": [
            "$92.00",
            "$130.00",
            "$63.00",
            "$66.00",
            "$372.00",
            "$15.00",
            "$18.00"
           ],
           "textposition": "outside",
           "type": "bar",
           "x": [
            "Misc",
            "bars_and_restaurants",
            "beer_and_weed",
            "gas",
            "grocery",
            "on_the_go_coffee",
            "take_out"
           ],
           "y": [
            92.30000000000001,
            129.78,
            63.120000000000005,
            65.59,
            371.5,
            15.42,
            18.46
           ]
          }
         ]
        },
        {
         "data": [
          {
           "text": [
            "$112.00",
            "$130.00",
            "$63.00",
            "$69.00",
            "$474.00",
            "$21.00",
            "$18.00"
           ],
           "textposition": "outside",
           "type": "bar",
           "x": [
            "Misc",
            "bars_and_restaurants",
            "beer_and_weed",
            "gas",
            "grocery",
            "on_the_go_coffee",
            "take_out"
           ],
           "y": [
            112.30000000000001,
            129.78,
            63.120000000000005,
            68.97,
            474.3,
            21.06,
            18.46
           ]
          }
         ]
        },
        {
         "data": [
          {
           "text": [
            "$112.00",
            "$181.00",
            "$63.00",
            "$69.00",
            "$549.00",
            "$21.00",
            "$27.00"
           ],
           "textposition": "outside",
           "type": "bar",
           "x": [
            "Misc",
            "bars_and_restaurants",
            "beer_and_weed",
            "gas",
            "grocery",
            "on_the_go_coffee",
            "take_out"
           ],
           "y": [
            112.30000000000001,
            180.57,
            63.120000000000005,
            68.97,
            549.4,
            21.06,
            27.490000000000002
           ]
          }
         ]
        },
        {
         "data": [
          {
           "text": [
            "$112.00",
            "$181.00",
            "$63.00",
            "$69.00",
            "$379.00",
            "$21.00",
            "$27.00"
           ],
           "textposition": "outside",
           "type": "bar",
           "x": [
            "Misc",
            "bars_and_restaurants",
            "beer_and_weed",
            "gas",
            "grocery",
            "on_the_go_coffee",
            "take_out"
           ],
           "y": [
            112.30000000000001,
            180.57,
            63.120000000000005,
            68.97,
            379.4,
            21.06,
            27.490000000000002
           ]
          }
         ]
        },
        {
         "data": [
          {
           "text": [
            "$112.00",
            "$181.00",
            "$63.00",
            "$69.00",
            "$379.00",
            "$21.00",
            "$27.00"
           ],
           "textposition": "outside",
           "type": "bar",
           "x": [
            "Misc",
            "bars_and_restaurants",
            "beer_and_weed",
            "gas",
            "grocery",
            "on_the_go_coffee",
            "take_out"
           ],
           "y": [
            112.30000000000001,
            180.57,
            63.120000000000005,
            68.97,
            379.4,
            21.06,
            27.490000000000002
           ]
          }
         ]
        },
        {
         "data": [
          {
           "text": [
            "$229.00",
            "$181.00",
            "$63.00",
            "$69.00",
            "$260.00",
            "$21.00",
            "$27.00"
           ],
           "textposition": "outside",
           "type": "bar",
           "x": [
            "Misc",
            "bars_and_restaurants",
            "beer_and_weed",
            "gas",
            "grocery",
            "on_the_go_coffee",
            "take_out"
           ],
           "y": [
            229.3,
            180.57,
            63.120000000000005,
            68.97,
            260.45,
            21.06,
            27.490000000000002
           ]
          }
         ]
        },
        {
         "data": [
          {
           "text": [
            "$264.00",
            "$181.00",
            "$63.00",
            "$69.00",
            "$260.00",
            "$21.00",
            "$38.00"
           ],
           "textposition": "outside",
           "type": "bar",
           "x": [
            "Misc",
            "bars_and_restaurants",
            "beer_and_weed",
            "gas",
            "grocery",
            "on_the_go_coffee",
            "take_out"
           ],
           "y": [
            264.08000000000004,
            180.57,
            63.120000000000005,
            68.97,
            260.45,
            21.06,
            37.63
           ]
          }
         ]
        },
        {
         "data": [
          {
           "text": [
            "$284.00",
            "$181.00",
            "$63.00",
            "$69.00",
            "$260.00",
            "$21.00",
            "$51.00"
           ],
           "textposition": "outside",
           "type": "bar",
           "x": [
            "Misc",
            "bars_and_restaurants",
            "beer_and_weed",
            "gas",
            "grocery",
            "on_the_go_coffee",
            "take_out"
           ],
           "y": [
            284.08000000000004,
            180.57,
            63.120000000000005,
            68.97,
            260.45,
            21.06,
            51.05
           ]
          }
         ]
        },
        {
         "data": [
          {
           "text": [
            "$284.00",
            "$181.00",
            "$63.00",
            "$69.00",
            "$260.00",
            "$21.00",
            "$77.00"
           ],
           "textposition": "outside",
           "type": "bar",
           "x": [
            "Misc",
            "bars_and_restaurants",
            "beer_and_weed",
            "gas",
            "grocery",
            "on_the_go_coffee",
            "take_out"
           ],
           "y": [
            284.08000000000004,
            180.57,
            63.120000000000005,
            68.97,
            260.45,
            21.06,
            76.72
           ]
          }
         ]
        },
        {
         "data": [
          {
           "text": [
            "$329.00",
            "$181.00",
            "$63.00",
            "$69.00",
            "$260.00",
            "$21.00",
            "$86.00"
           ],
           "textposition": "outside",
           "type": "bar",
           "x": [
            "Misc",
            "bars_and_restaurants",
            "beer_and_weed",
            "gas",
            "grocery",
            "on_the_go_coffee",
            "take_out"
           ],
           "y": [
            328.58000000000004,
            180.57,
            63.120000000000005,
            68.97,
            260.45,
            21.06,
            85.58
           ]
          }
         ]
        },
        {
         "data": [
          {
           "text": [
            "$329.00",
            "$181.00",
            "$63.00",
            "$69.00",
            "$264.00",
            "$21.00",
            "$86.00"
           ],
           "textposition": "outside",
           "type": "bar",
           "x": [
            "Misc",
            "bars_and_restaurants",
            "beer_and_weed",
            "gas",
            "grocery",
            "on_the_go_coffee",
            "take_out"
           ],
           "y": [
            328.58000000000004,
            180.57,
            63.120000000000005,
            68.97,
            264.44,
            21.06,
            85.58
           ]
          }
         ]
        },
        {
         "data": [
          {
           "text": [
            "$329.00",
            "$181.00",
            "$63.00",
            "$69.00",
            "$264.00",
            "$21.00",
            "$86.00"
           ],
           "textposition": "outside",
           "type": "bar",
           "x": [
            "Misc",
            "bars_and_restaurants",
            "beer_and_weed",
            "gas",
            "grocery",
            "on_the_go_coffee",
            "take_out"
           ],
           "y": [
            328.58000000000004,
            180.57,
            63.120000000000005,
            68.97,
            264.44,
            21.06,
            85.58
           ]
          }
         ]
        },
        {
         "data": [
          {
           "text": [
            "$331.00",
            "$181.00",
            "$63.00",
            "$69.00",
            "$264.00",
            "$21.00",
            "$86.00"
           ],
           "textposition": "outside",
           "type": "bar",
           "x": [
            "Misc",
            "bars_and_restaurants",
            "beer_and_weed",
            "gas",
            "grocery",
            "on_the_go_coffee",
            "take_out"
           ],
           "y": [
            330.75,
            180.57,
            63.120000000000005,
            68.97,
            264.44,
            21.06,
            85.58
           ]
          }
         ]
        },
        {
         "data": [
          {
           "text": [
            "$331.00",
            "$181.00",
            "$63.00",
            "$69.00",
            "$264.00",
            "$21.00",
            "$86.00"
           ],
           "textposition": "outside",
           "type": "bar",
           "x": [
            "Misc",
            "bars_and_restaurants",
            "beer_and_weed",
            "gas",
            "grocery",
            "on_the_go_coffee",
            "take_out"
           ],
           "y": [
            330.75,
            180.57,
            63.120000000000005,
            68.97,
            264.44,
            21.06,
            85.58
           ]
          }
         ]
        },
        {
         "data": [
          {
           "text": [
            "$331.00",
            "$181.00",
            "$63.00",
            "$69.00",
            "$264.00",
            "$21.00",
            "$86.00"
           ],
           "textposition": "outside",
           "type": "bar",
           "x": [
            "Misc",
            "bars_and_restaurants",
            "beer_and_weed",
            "gas",
            "grocery",
            "on_the_go_coffee",
            "take_out"
           ],
           "y": [
            330.75,
            180.57,
            63.120000000000005,
            68.97,
            264.44,
            21.06,
            85.58
           ]
          }
         ]
        }
       ],
       "layout": {
        "hovermode": "closest",
        "template": {
         "data": {
          "bar": [
           {
            "error_x": {
             "color": "#2a3f5f"
            },
            "error_y": {
             "color": "#2a3f5f"
            },
            "marker": {
             "line": {
              "color": "#E5ECF6",
              "width": 0.5
             },
             "pattern": {
              "fillmode": "overlay",
              "size": 10,
              "solidity": 0.2
             }
            },
            "type": "bar"
           }
          ],
          "barpolar": [
           {
            "marker": {
             "line": {
              "color": "#E5ECF6",
              "width": 0.5
             },
             "pattern": {
              "fillmode": "overlay",
              "size": 10,
              "solidity": 0.2
             }
            },
            "type": "barpolar"
           }
          ],
          "carpet": [
           {
            "aaxis": {
             "endlinecolor": "#2a3f5f",
             "gridcolor": "white",
             "linecolor": "white",
             "minorgridcolor": "white",
             "startlinecolor": "#2a3f5f"
            },
            "baxis": {
             "endlinecolor": "#2a3f5f",
             "gridcolor": "white",
             "linecolor": "white",
             "minorgridcolor": "white",
             "startlinecolor": "#2a3f5f"
            },
            "type": "carpet"
           }
          ],
          "choropleth": [
           {
            "colorbar": {
             "outlinewidth": 0,
             "ticks": ""
            },
            "type": "choropleth"
           }
          ],
          "contour": [
           {
            "colorbar": {
             "outlinewidth": 0,
             "ticks": ""
            },
            "colorscale": [
             [
              0,
              "#0d0887"
             ],
             [
              0.1111111111111111,
              "#46039f"
             ],
             [
              0.2222222222222222,
              "#7201a8"
             ],
             [
              0.3333333333333333,
              "#9c179e"
             ],
             [
              0.4444444444444444,
              "#bd3786"
             ],
             [
              0.5555555555555556,
              "#d8576b"
             ],
             [
              0.6666666666666666,
              "#ed7953"
             ],
             [
              0.7777777777777778,
              "#fb9f3a"
             ],
             [
              0.8888888888888888,
              "#fdca26"
             ],
             [
              1,
              "#f0f921"
             ]
            ],
            "type": "contour"
           }
          ],
          "contourcarpet": [
           {
            "colorbar": {
             "outlinewidth": 0,
             "ticks": ""
            },
            "type": "contourcarpet"
           }
          ],
          "heatmap": [
           {
            "colorbar": {
             "outlinewidth": 0,
             "ticks": ""
            },
            "colorscale": [
             [
              0,
              "#0d0887"
             ],
             [
              0.1111111111111111,
              "#46039f"
             ],
             [
              0.2222222222222222,
              "#7201a8"
             ],
             [
              0.3333333333333333,
              "#9c179e"
             ],
             [
              0.4444444444444444,
              "#bd3786"
             ],
             [
              0.5555555555555556,
              "#d8576b"
             ],
             [
              0.6666666666666666,
              "#ed7953"
             ],
             [
              0.7777777777777778,
              "#fb9f3a"
             ],
             [
              0.8888888888888888,
              "#fdca26"
             ],
             [
              1,
              "#f0f921"
             ]
            ],
            "type": "heatmap"
           }
          ],
          "heatmapgl": [
           {
            "colorbar": {
             "outlinewidth": 0,
             "ticks": ""
            },
            "colorscale": [
             [
              0,
              "#0d0887"
             ],
             [
              0.1111111111111111,
              "#46039f"
             ],
             [
              0.2222222222222222,
              "#7201a8"
             ],
             [
              0.3333333333333333,
              "#9c179e"
             ],
             [
              0.4444444444444444,
              "#bd3786"
             ],
             [
              0.5555555555555556,
              "#d8576b"
             ],
             [
              0.6666666666666666,
              "#ed7953"
             ],
             [
              0.7777777777777778,
              "#fb9f3a"
             ],
             [
              0.8888888888888888,
              "#fdca26"
             ],
             [
              1,
              "#f0f921"
             ]
            ],
            "type": "heatmapgl"
           }
          ],
          "histogram": [
           {
            "marker": {
             "pattern": {
              "fillmode": "overlay",
              "size": 10,
              "solidity": 0.2
             }
            },
            "type": "histogram"
           }
          ],
          "histogram2d": [
           {
            "colorbar": {
             "outlinewidth": 0,
             "ticks": ""
            },
            "colorscale": [
             [
              0,
              "#0d0887"
             ],
             [
              0.1111111111111111,
              "#46039f"
             ],
             [
              0.2222222222222222,
              "#7201a8"
             ],
             [
              0.3333333333333333,
              "#9c179e"
             ],
             [
              0.4444444444444444,
              "#bd3786"
             ],
             [
              0.5555555555555556,
              "#d8576b"
             ],
             [
              0.6666666666666666,
              "#ed7953"
             ],
             [
              0.7777777777777778,
              "#fb9f3a"
             ],
             [
              0.8888888888888888,
              "#fdca26"
             ],
             [
              1,
              "#f0f921"
             ]
            ],
            "type": "histogram2d"
           }
          ],
          "histogram2dcontour": [
           {
            "colorbar": {
             "outlinewidth": 0,
             "ticks": ""
            },
            "colorscale": [
             [
              0,
              "#0d0887"
             ],
             [
              0.1111111111111111,
              "#46039f"
             ],
             [
              0.2222222222222222,
              "#7201a8"
             ],
             [
              0.3333333333333333,
              "#9c179e"
             ],
             [
              0.4444444444444444,
              "#bd3786"
             ],
             [
              0.5555555555555556,
              "#d8576b"
             ],
             [
              0.6666666666666666,
              "#ed7953"
             ],
             [
              0.7777777777777778,
              "#fb9f3a"
             ],
             [
              0.8888888888888888,
              "#fdca26"
             ],
             [
              1,
              "#f0f921"
             ]
            ],
            "type": "histogram2dcontour"
           }
          ],
          "mesh3d": [
           {
            "colorbar": {
             "outlinewidth": 0,
             "ticks": ""
            },
            "type": "mesh3d"
           }
          ],
          "parcoords": [
           {
            "line": {
             "colorbar": {
              "outlinewidth": 0,
              "ticks": ""
             }
            },
            "type": "parcoords"
           }
          ],
          "pie": [
           {
            "automargin": true,
            "type": "pie"
           }
          ],
          "scatter": [
           {
            "marker": {
             "colorbar": {
              "outlinewidth": 0,
              "ticks": ""
             }
            },
            "type": "scatter"
           }
          ],
          "scatter3d": [
           {
            "line": {
             "colorbar": {
              "outlinewidth": 0,
              "ticks": ""
             }
            },
            "marker": {
             "colorbar": {
              "outlinewidth": 0,
              "ticks": ""
             }
            },
            "type": "scatter3d"
           }
          ],
          "scattercarpet": [
           {
            "marker": {
             "colorbar": {
              "outlinewidth": 0,
              "ticks": ""
             }
            },
            "type": "scattercarpet"
           }
          ],
          "scattergeo": [
           {
            "marker": {
             "colorbar": {
              "outlinewidth": 0,
              "ticks": ""
             }
            },
            "type": "scattergeo"
           }
          ],
          "scattergl": [
           {
            "marker": {
             "colorbar": {
              "outlinewidth": 0,
              "ticks": ""
             }
            },
            "type": "scattergl"
           }
          ],
          "scattermapbox": [
           {
            "marker": {
             "colorbar": {
              "outlinewidth": 0,
              "ticks": ""
             }
            },
            "type": "scattermapbox"
           }
          ],
          "scatterpolar": [
           {
            "marker": {
             "colorbar": {
              "outlinewidth": 0,
              "ticks": ""
             }
            },
            "type": "scatterpolar"
           }
          ],
          "scatterpolargl": [
           {
            "marker": {
             "colorbar": {
              "outlinewidth": 0,
              "ticks": ""
             }
            },
            "type": "scatterpolargl"
           }
          ],
          "scatterternary": [
           {
            "marker": {
             "colorbar": {
              "outlinewidth": 0,
              "ticks": ""
             }
            },
            "type": "scatterternary"
           }
          ],
          "surface": [
           {
            "colorbar": {
             "outlinewidth": 0,
             "ticks": ""
            },
            "colorscale": [
             [
              0,
              "#0d0887"
             ],
             [
              0.1111111111111111,
              "#46039f"
             ],
             [
              0.2222222222222222,
              "#7201a8"
             ],
             [
              0.3333333333333333,
              "#9c179e"
             ],
             [
              0.4444444444444444,
              "#bd3786"
             ],
             [
              0.5555555555555556,
              "#d8576b"
             ],
             [
              0.6666666666666666,
              "#ed7953"
             ],
             [
              0.7777777777777778,
              "#fb9f3a"
             ],
             [
              0.8888888888888888,
              "#fdca26"
             ],
             [
              1,
              "#f0f921"
             ]
            ],
            "type": "surface"
           }
          ],
          "table": [
           {
            "cells": {
             "fill": {
              "color": "#EBF0F8"
             },
             "line": {
              "color": "white"
             }
            },
            "header": {
             "fill": {
              "color": "#C8D4E3"
             },
             "line": {
              "color": "white"
             }
            },
            "type": "table"
           }
          ]
         },
         "layout": {
          "annotationdefaults": {
           "arrowcolor": "#2a3f5f",
           "arrowhead": 0,
           "arrowwidth": 1
          },
          "autotypenumbers": "strict",
          "coloraxis": {
           "colorbar": {
            "outlinewidth": 0,
            "ticks": ""
           }
          },
          "colorscale": {
           "diverging": [
            [
             0,
             "#8e0152"
            ],
            [
             0.1,
             "#c51b7d"
            ],
            [
             0.2,
             "#de77ae"
            ],
            [
             0.3,
             "#f1b6da"
            ],
            [
             0.4,
             "#fde0ef"
            ],
            [
             0.5,
             "#f7f7f7"
            ],
            [
             0.6,
             "#e6f5d0"
            ],
            [
             0.7,
             "#b8e186"
            ],
            [
             0.8,
             "#7fbc41"
            ],
            [
             0.9,
             "#4d9221"
            ],
            [
             1,
             "#276419"
            ]
           ],
           "sequential": [
            [
             0,
             "#0d0887"
            ],
            [
             0.1111111111111111,
             "#46039f"
            ],
            [
             0.2222222222222222,
             "#7201a8"
            ],
            [
             0.3333333333333333,
             "#9c179e"
            ],
            [
             0.4444444444444444,
             "#bd3786"
            ],
            [
             0.5555555555555556,
             "#d8576b"
            ],
            [
             0.6666666666666666,
             "#ed7953"
            ],
            [
             0.7777777777777778,
             "#fb9f3a"
            ],
            [
             0.8888888888888888,
             "#fdca26"
            ],
            [
             1,
             "#f0f921"
            ]
           ],
           "sequentialminus": [
            [
             0,
             "#0d0887"
            ],
            [
             0.1111111111111111,
             "#46039f"
            ],
            [
             0.2222222222222222,
             "#7201a8"
            ],
            [
             0.3333333333333333,
             "#9c179e"
            ],
            [
             0.4444444444444444,
             "#bd3786"
            ],
            [
             0.5555555555555556,
             "#d8576b"
            ],
            [
             0.6666666666666666,
             "#ed7953"
            ],
            [
             0.7777777777777778,
             "#fb9f3a"
            ],
            [
             0.8888888888888888,
             "#fdca26"
            ],
            [
             1,
             "#f0f921"
            ]
           ]
          },
          "colorway": [
           "#636efa",
           "#EF553B",
           "#00cc96",
           "#ab63fa",
           "#FFA15A",
           "#19d3f3",
           "#FF6692",
           "#B6E880",
           "#FF97FF",
           "#FECB52"
          ],
          "font": {
           "color": "#2a3f5f"
          },
          "geo": {
           "bgcolor": "white",
           "lakecolor": "white",
           "landcolor": "#E5ECF6",
           "showlakes": true,
           "showland": true,
           "subunitcolor": "white"
          },
          "hoverlabel": {
           "align": "left"
          },
          "hovermode": "closest",
          "mapbox": {
           "style": "light"
          },
          "paper_bgcolor": "white",
          "plot_bgcolor": "#E5ECF6",
          "polar": {
           "angularaxis": {
            "gridcolor": "white",
            "linecolor": "white",
            "ticks": ""
           },
           "bgcolor": "#E5ECF6",
           "radialaxis": {
            "gridcolor": "white",
            "linecolor": "white",
            "ticks": ""
           }
          },
          "scene": {
           "xaxis": {
            "backgroundcolor": "#E5ECF6",
            "gridcolor": "white",
            "gridwidth": 2,
            "linecolor": "white",
            "showbackground": true,
            "ticks": "",
            "zerolinecolor": "white"
           },
           "yaxis": {
            "backgroundcolor": "#E5ECF6",
            "gridcolor": "white",
            "gridwidth": 2,
            "linecolor": "white",
            "showbackground": true,
            "ticks": "",
            "zerolinecolor": "white"
           },
           "zaxis": {
            "backgroundcolor": "#E5ECF6",
            "gridcolor": "white",
            "gridwidth": 2,
            "linecolor": "white",
            "showbackground": true,
            "ticks": "",
            "zerolinecolor": "white"
           }
          },
          "shapedefaults": {
           "line": {
            "color": "#2a3f5f"
           }
          },
          "ternary": {
           "aaxis": {
            "gridcolor": "white",
            "linecolor": "white",
            "ticks": ""
           },
           "baxis": {
            "gridcolor": "white",
            "linecolor": "white",
            "ticks": ""
           },
           "bgcolor": "#E5ECF6",
           "caxis": {
            "gridcolor": "white",
            "linecolor": "white",
            "ticks": ""
           }
          },
          "title": {
           "x": 0.05
          },
          "xaxis": {
           "automargin": true,
           "gridcolor": "white",
           "linecolor": "white",
           "ticks": "",
           "title": {
            "standoff": 15
           },
           "zerolinecolor": "white",
           "zerolinewidth": 2
          },
          "yaxis": {
           "automargin": true,
           "gridcolor": "white",
           "linecolor": "white",
           "ticks": "",
           "title": {
            "standoff": 15
           },
           "zerolinecolor": "white",
           "zerolinewidth": 2
          }
         }
        },
        "title": {
         "text": "Kinematic Generation of a Planar Curve"
        },
        "updatemenus": [
         {
          "buttons": [
           {
            "args": [
             null
            ],
            "label": "Play",
            "method": "animate"
           }
          ],
          "type": "buttons"
         }
        ],
        "yaxis": {
         "autorange": false,
         "range": [
          0,
          396.9
         ],
         "zeroline": false
        }
       }
      },
      "text/html": [
       "<div>                            <div id=\"6dfec5c3-46c1-40c8-a029-43a40f47caab\" class=\"plotly-graph-div\" style=\"height:525px; width:100%;\"></div>            <script type=\"text/javascript\">                require([\"plotly\"], function(Plotly) {                    window.PLOTLYENV=window.PLOTLYENV || {};                                    if (document.getElementById(\"6dfec5c3-46c1-40c8-a029-43a40f47caab\")) {                    Plotly.newPlot(                        \"6dfec5c3-46c1-40c8-a029-43a40f47caab\",                        [{\"text\":[\"$331.00\",\"$181.00\",\"$63.00\",\"$69.00\",\"$264.00\",\"$21.00\",\"$86.00\"],\"textposition\":\"outside\",\"x\":[\"Misc\",\"bars_and_restaurants\",\"beer_and_weed\",\"gas\",\"grocery\",\"on_the_go_coffee\",\"take_out\"],\"y\":[330.75,180.57,63.120000000000005,68.97,264.44,21.06,85.58],\"type\":\"bar\"}],                        {\"hovermode\":\"closest\",\"title\":{\"text\":\"Kinematic Generation of a Planar Curve\"},\"updatemenus\":[{\"buttons\":[{\"args\":[null],\"label\":\"Play\",\"method\":\"animate\"}],\"type\":\"buttons\"}],\"yaxis\":{\"autorange\":false,\"range\":[0,396.9],\"zeroline\":false},\"template\":{\"data\":{\"bar\":[{\"error_x\":{\"color\":\"#2a3f5f\"},\"error_y\":{\"color\":\"#2a3f5f\"},\"marker\":{\"line\":{\"color\":\"#E5ECF6\",\"width\":0.5},\"pattern\":{\"fillmode\":\"overlay\",\"size\":10,\"solidity\":0.2}},\"type\":\"bar\"}],\"barpolar\":[{\"marker\":{\"line\":{\"color\":\"#E5ECF6\",\"width\":0.5},\"pattern\":{\"fillmode\":\"overlay\",\"size\":10,\"solidity\":0.2}},\"type\":\"barpolar\"}],\"carpet\":[{\"aaxis\":{\"endlinecolor\":\"#2a3f5f\",\"gridcolor\":\"white\",\"linecolor\":\"white\",\"minorgridcolor\":\"white\",\"startlinecolor\":\"#2a3f5f\"},\"baxis\":{\"endlinecolor\":\"#2a3f5f\",\"gridcolor\":\"white\",\"linecolor\":\"white\",\"minorgridcolor\":\"white\",\"startlinecolor\":\"#2a3f5f\"},\"type\":\"carpet\"}],\"choropleth\":[{\"colorbar\":{\"outlinewidth\":0,\"ticks\":\"\"},\"type\":\"choropleth\"}],\"contour\":[{\"colorbar\":{\"outlinewidth\":0,\"ticks\":\"\"},\"colorscale\":[[0.0,\"#0d0887\"],[0.1111111111111111,\"#46039f\"],[0.2222222222222222,\"#7201a8\"],[0.3333333333333333,\"#9c179e\"],[0.4444444444444444,\"#bd3786\"],[0.5555555555555556,\"#d8576b\"],[0.6666666666666666,\"#ed7953\"],[0.7777777777777778,\"#fb9f3a\"],[0.8888888888888888,\"#fdca26\"],[1.0,\"#f0f921\"]],\"type\":\"contour\"}],\"contourcarpet\":[{\"colorbar\":{\"outlinewidth\":0,\"ticks\":\"\"},\"type\":\"contourcarpet\"}],\"heatmap\":[{\"colorbar\":{\"outlinewidth\":0,\"ticks\":\"\"},\"colorscale\":[[0.0,\"#0d0887\"],[0.1111111111111111,\"#46039f\"],[0.2222222222222222,\"#7201a8\"],[0.3333333333333333,\"#9c179e\"],[0.4444444444444444,\"#bd3786\"],[0.5555555555555556,\"#d8576b\"],[0.6666666666666666,\"#ed7953\"],[0.7777777777777778,\"#fb9f3a\"],[0.8888888888888888,\"#fdca26\"],[1.0,\"#f0f921\"]],\"type\":\"heatmap\"}],\"heatmapgl\":[{\"colorbar\":{\"outlinewidth\":0,\"ticks\":\"\"},\"colorscale\":[[0.0,\"#0d0887\"],[0.1111111111111111,\"#46039f\"],[0.2222222222222222,\"#7201a8\"],[0.3333333333333333,\"#9c179e\"],[0.4444444444444444,\"#bd3786\"],[0.5555555555555556,\"#d8576b\"],[0.6666666666666666,\"#ed7953\"],[0.7777777777777778,\"#fb9f3a\"],[0.8888888888888888,\"#fdca26\"],[1.0,\"#f0f921\"]],\"type\":\"heatmapgl\"}],\"histogram\":[{\"marker\":{\"pattern\":{\"fillmode\":\"overlay\",\"size\":10,\"solidity\":0.2}},\"type\":\"histogram\"}],\"histogram2d\":[{\"colorbar\":{\"outlinewidth\":0,\"ticks\":\"\"},\"colorscale\":[[0.0,\"#0d0887\"],[0.1111111111111111,\"#46039f\"],[0.2222222222222222,\"#7201a8\"],[0.3333333333333333,\"#9c179e\"],[0.4444444444444444,\"#bd3786\"],[0.5555555555555556,\"#d8576b\"],[0.6666666666666666,\"#ed7953\"],[0.7777777777777778,\"#fb9f3a\"],[0.8888888888888888,\"#fdca26\"],[1.0,\"#f0f921\"]],\"type\":\"histogram2d\"}],\"histogram2dcontour\":[{\"colorbar\":{\"outlinewidth\":0,\"ticks\":\"\"},\"colorscale\":[[0.0,\"#0d0887\"],[0.1111111111111111,\"#46039f\"],[0.2222222222222222,\"#7201a8\"],[0.3333333333333333,\"#9c179e\"],[0.4444444444444444,\"#bd3786\"],[0.5555555555555556,\"#d8576b\"],[0.6666666666666666,\"#ed7953\"],[0.7777777777777778,\"#fb9f3a\"],[0.8888888888888888,\"#fdca26\"],[1.0,\"#f0f921\"]],\"type\":\"histogram2dcontour\"}],\"mesh3d\":[{\"colorbar\":{\"outlinewidth\":0,\"ticks\":\"\"},\"type\":\"mesh3d\"}],\"parcoords\":[{\"line\":{\"colorbar\":{\"outlinewidth\":0,\"ticks\":\"\"}},\"type\":\"parcoords\"}],\"pie\":[{\"automargin\":true,\"type\":\"pie\"}],\"scatter\":[{\"marker\":{\"colorbar\":{\"outlinewidth\":0,\"ticks\":\"\"}},\"type\":\"scatter\"}],\"scatter3d\":[{\"line\":{\"colorbar\":{\"outlinewidth\":0,\"ticks\":\"\"}},\"marker\":{\"colorbar\":{\"outlinewidth\":0,\"ticks\":\"\"}},\"type\":\"scatter3d\"}],\"scattercarpet\":[{\"marker\":{\"colorbar\":{\"outlinewidth\":0,\"ticks\":\"\"}},\"type\":\"scattercarpet\"}],\"scattergeo\":[{\"marker\":{\"colorbar\":{\"outlinewidth\":0,\"ticks\":\"\"}},\"type\":\"scattergeo\"}],\"scattergl\":[{\"marker\":{\"colorbar\":{\"outlinewidth\":0,\"ticks\":\"\"}},\"type\":\"scattergl\"}],\"scattermapbox\":[{\"marker\":{\"colorbar\":{\"outlinewidth\":0,\"ticks\":\"\"}},\"type\":\"scattermapbox\"}],\"scatterpolar\":[{\"marker\":{\"colorbar\":{\"outlinewidth\":0,\"ticks\":\"\"}},\"type\":\"scatterpolar\"}],\"scatterpolargl\":[{\"marker\":{\"colorbar\":{\"outlinewidth\":0,\"ticks\":\"\"}},\"type\":\"scatterpolargl\"}],\"scatterternary\":[{\"marker\":{\"colorbar\":{\"outlinewidth\":0,\"ticks\":\"\"}},\"type\":\"scatterternary\"}],\"surface\":[{\"colorbar\":{\"outlinewidth\":0,\"ticks\":\"\"},\"colorscale\":[[0.0,\"#0d0887\"],[0.1111111111111111,\"#46039f\"],[0.2222222222222222,\"#7201a8\"],[0.3333333333333333,\"#9c179e\"],[0.4444444444444444,\"#bd3786\"],[0.5555555555555556,\"#d8576b\"],[0.6666666666666666,\"#ed7953\"],[0.7777777777777778,\"#fb9f3a\"],[0.8888888888888888,\"#fdca26\"],[1.0,\"#f0f921\"]],\"type\":\"surface\"}],\"table\":[{\"cells\":{\"fill\":{\"color\":\"#EBF0F8\"},\"line\":{\"color\":\"white\"}},\"header\":{\"fill\":{\"color\":\"#C8D4E3\"},\"line\":{\"color\":\"white\"}},\"type\":\"table\"}]},\"layout\":{\"annotationdefaults\":{\"arrowcolor\":\"#2a3f5f\",\"arrowhead\":0,\"arrowwidth\":1},\"autotypenumbers\":\"strict\",\"coloraxis\":{\"colorbar\":{\"outlinewidth\":0,\"ticks\":\"\"}},\"colorscale\":{\"diverging\":[[0,\"#8e0152\"],[0.1,\"#c51b7d\"],[0.2,\"#de77ae\"],[0.3,\"#f1b6da\"],[0.4,\"#fde0ef\"],[0.5,\"#f7f7f7\"],[0.6,\"#e6f5d0\"],[0.7,\"#b8e186\"],[0.8,\"#7fbc41\"],[0.9,\"#4d9221\"],[1,\"#276419\"]],\"sequential\":[[0.0,\"#0d0887\"],[0.1111111111111111,\"#46039f\"],[0.2222222222222222,\"#7201a8\"],[0.3333333333333333,\"#9c179e\"],[0.4444444444444444,\"#bd3786\"],[0.5555555555555556,\"#d8576b\"],[0.6666666666666666,\"#ed7953\"],[0.7777777777777778,\"#fb9f3a\"],[0.8888888888888888,\"#fdca26\"],[1.0,\"#f0f921\"]],\"sequentialminus\":[[0.0,\"#0d0887\"],[0.1111111111111111,\"#46039f\"],[0.2222222222222222,\"#7201a8\"],[0.3333333333333333,\"#9c179e\"],[0.4444444444444444,\"#bd3786\"],[0.5555555555555556,\"#d8576b\"],[0.6666666666666666,\"#ed7953\"],[0.7777777777777778,\"#fb9f3a\"],[0.8888888888888888,\"#fdca26\"],[1.0,\"#f0f921\"]]},\"colorway\":[\"#636efa\",\"#EF553B\",\"#00cc96\",\"#ab63fa\",\"#FFA15A\",\"#19d3f3\",\"#FF6692\",\"#B6E880\",\"#FF97FF\",\"#FECB52\"],\"font\":{\"color\":\"#2a3f5f\"},\"geo\":{\"bgcolor\":\"white\",\"lakecolor\":\"white\",\"landcolor\":\"#E5ECF6\",\"showlakes\":true,\"showland\":true,\"subunitcolor\":\"white\"},\"hoverlabel\":{\"align\":\"left\"},\"hovermode\":\"closest\",\"mapbox\":{\"style\":\"light\"},\"paper_bgcolor\":\"white\",\"plot_bgcolor\":\"#E5ECF6\",\"polar\":{\"angularaxis\":{\"gridcolor\":\"white\",\"linecolor\":\"white\",\"ticks\":\"\"},\"bgcolor\":\"#E5ECF6\",\"radialaxis\":{\"gridcolor\":\"white\",\"linecolor\":\"white\",\"ticks\":\"\"}},\"scene\":{\"xaxis\":{\"backgroundcolor\":\"#E5ECF6\",\"gridcolor\":\"white\",\"gridwidth\":2,\"linecolor\":\"white\",\"showbackground\":true,\"ticks\":\"\",\"zerolinecolor\":\"white\"},\"yaxis\":{\"backgroundcolor\":\"#E5ECF6\",\"gridcolor\":\"white\",\"gridwidth\":2,\"linecolor\":\"white\",\"showbackground\":true,\"ticks\":\"\",\"zerolinecolor\":\"white\"},\"zaxis\":{\"backgroundcolor\":\"#E5ECF6\",\"gridcolor\":\"white\",\"gridwidth\":2,\"linecolor\":\"white\",\"showbackground\":true,\"ticks\":\"\",\"zerolinecolor\":\"white\"}},\"shapedefaults\":{\"line\":{\"color\":\"#2a3f5f\"}},\"ternary\":{\"aaxis\":{\"gridcolor\":\"white\",\"linecolor\":\"white\",\"ticks\":\"\"},\"baxis\":{\"gridcolor\":\"white\",\"linecolor\":\"white\",\"ticks\":\"\"},\"bgcolor\":\"#E5ECF6\",\"caxis\":{\"gridcolor\":\"white\",\"linecolor\":\"white\",\"ticks\":\"\"}},\"title\":{\"x\":0.05},\"xaxis\":{\"automargin\":true,\"gridcolor\":\"white\",\"linecolor\":\"white\",\"ticks\":\"\",\"title\":{\"standoff\":15},\"zerolinecolor\":\"white\",\"zerolinewidth\":2},\"yaxis\":{\"automargin\":true,\"gridcolor\":\"white\",\"linecolor\":\"white\",\"ticks\":\"\",\"title\":{\"standoff\":15},\"zerolinecolor\":\"white\",\"zerolinewidth\":2}}}},                        {\"responsive\": true}                    ).then(function(){\n",
       "                            Plotly.addFrames('6dfec5c3-46c1-40c8-a029-43a40f47caab', [{\"data\":[{\"text\":[\"$25.00\",\"$2.00\"],\"textposition\":\"outside\",\"x\":[\"grocery\",\"on_the_go_coffee\"],\"y\":[24.57,2.4],\"type\":\"bar\"}]},{\"data\":[{\"text\":[\"$25.00\",\"$2.00\"],\"textposition\":\"outside\",\"x\":[\"grocery\",\"on_the_go_coffee\"],\"y\":[24.57,2.4],\"type\":\"bar\"}]},{\"data\":[{\"text\":[\"$66.00\",\"$25.00\",\"$2.00\"],\"textposition\":\"outside\",\"x\":[\"gas\",\"grocery\",\"on_the_go_coffee\"],\"y\":[65.59,24.57,2.4],\"type\":\"bar\"}]},{\"data\":[{\"text\":[\"$70.00\",\"$22.00\",\"$66.00\",\"$25.00\",\"$10.00\"],\"textposition\":\"outside\",\"x\":[\"bars_and_restaurants\",\"beer_and_weed\",\"gas\",\"grocery\",\"on_the_go_coffee\"],\"y\":[69.52,21.95,65.59,24.57,9.96],\"type\":\"bar\"}]},{\"data\":[{\"text\":[\"$70.00\",\"$22.00\",\"$66.00\",\"$132.00\",\"$10.00\"],\"textposition\":\"outside\",\"x\":[\"bars_and_restaurants\",\"beer_and_weed\",\"gas\",\"grocery\",\"on_the_go_coffee\"],\"y\":[69.52,21.95,65.59,131.73,9.96],\"type\":\"bar\"}]},{\"data\":[{\"text\":[\"$70.00\",\"$22.00\",\"$66.00\",\"$132.00\",\"$10.00\"],\"textposition\":\"outside\",\"x\":[\"bars_and_restaurants\",\"beer_and_weed\",\"gas\",\"grocery\",\"on_the_go_coffee\"],\"y\":[69.52,21.95,65.59,131.73,9.96],\"type\":\"bar\"}]},{\"data\":[{\"text\":[\"$70.00\",\"$22.00\",\"$66.00\",\"$132.00\",\"$10.00\"],\"textposition\":\"outside\",\"x\":[\"bars_and_restaurants\",\"beer_and_weed\",\"gas\",\"grocery\",\"on_the_go_coffee\"],\"y\":[69.52,21.95,65.59,131.73,9.96],\"type\":\"bar\"}]},{\"data\":[{\"text\":[\"$70.00\",\"$22.00\",\"$66.00\",\"$132.00\",\"$10.00\"],\"textposition\":\"outside\",\"x\":[\"bars_and_restaurants\",\"beer_and_weed\",\"gas\",\"grocery\",\"on_the_go_coffee\"],\"y\":[69.52,21.95,65.59,131.73,9.96],\"type\":\"bar\"}]},{\"data\":[{\"text\":[\"$70.00\",\"$22.00\",\"$66.00\",\"$132.00\",\"$15.00\"],\"textposition\":\"outside\",\"x\":[\"bars_and_restaurants\",\"beer_and_weed\",\"gas\",\"grocery\",\"on_the_go_coffee\"],\"y\":[69.52,21.95,65.59,131.73,15.42],\"type\":\"bar\"}]},{\"data\":[{\"text\":[\"$70.00\",\"$22.00\",\"$66.00\",\"$289.00\",\"$15.00\",\"$6.00\"],\"textposition\":\"outside\",\"x\":[\"bars_and_restaurants\",\"beer_and_weed\",\"gas\",\"grocery\",\"on_the_go_coffee\",\"take_out\"],\"y\":[69.52,21.95,65.59,288.78,15.42,6.0],\"type\":\"bar\"}]},{\"data\":[{\"text\":[\"$1.00\",\"$70.00\",\"$31.00\",\"$66.00\",\"$303.00\",\"$15.00\",\"$6.00\"],\"textposition\":\"outside\",\"x\":[\"Misc\",\"bars_and_restaurants\",\"beer_and_weed\",\"gas\",\"grocery\",\"on_the_go_coffee\",\"take_out\"],\"y\":[1.46,69.52,30.52,65.59,303.46,15.42,6.0],\"type\":\"bar\"}]},{\"data\":[{\"text\":[\"$1.00\",\"$70.00\",\"$31.00\",\"$66.00\",\"$303.00\",\"$15.00\",\"$6.00\"],\"textposition\":\"outside\",\"x\":[\"Misc\",\"bars_and_restaurants\",\"beer_and_weed\",\"gas\",\"grocery\",\"on_the_go_coffee\",\"take_out\"],\"y\":[1.46,69.52,30.52,65.59,303.46,15.42,6.0],\"type\":\"bar\"}]},{\"data\":[{\"text\":[\"$1.00\",\"$70.00\",\"$31.00\",\"$66.00\",\"$152.00\",\"$15.00\",\"$6.00\"],\"textposition\":\"outside\",\"x\":[\"Misc\",\"bars_and_restaurants\",\"beer_and_weed\",\"gas\",\"grocery\",\"on_the_go_coffee\",\"take_out\"],\"y\":[1.46,69.52,30.52,65.59,151.5,15.42,6.0],\"type\":\"bar\"}]},{\"data\":[{\"text\":[\"$1.00\",\"$70.00\",\"$31.00\",\"$66.00\",\"$152.00\",\"$15.00\",\"$6.00\"],\"textposition\":\"outside\",\"x\":[\"Misc\",\"bars_and_restaurants\",\"beer_and_weed\",\"gas\",\"grocery\",\"on_the_go_coffee\",\"take_out\"],\"y\":[1.46,69.52,30.52,65.59,151.5,15.42,6.0],\"type\":\"bar\"}]},{\"data\":[{\"text\":[\"$1.00\",\"$70.00\",\"$31.00\",\"$66.00\",\"$152.00\",\"$15.00\",\"$6.00\"],\"textposition\":\"outside\",\"x\":[\"Misc\",\"bars_and_restaurants\",\"beer_and_weed\",\"gas\",\"grocery\",\"on_the_go_coffee\",\"take_out\"],\"y\":[1.46,69.52,30.52,65.59,151.5,15.42,6.0],\"type\":\"bar\"}]},{\"data\":[{\"text\":[\"$1.00\",\"$70.00\",\"$31.00\",\"$66.00\",\"$372.00\",\"$15.00\",\"$6.00\"],\"textposition\":\"outside\",\"x\":[\"Misc\",\"bars_and_restaurants\",\"beer_and_weed\",\"gas\",\"grocery\",\"on_the_go_coffee\",\"take_out\"],\"y\":[1.46,69.52,30.52,65.59,371.5,15.42,6.0],\"type\":\"bar\"}]},{\"data\":[{\"text\":[\"$1.00\",\"$70.00\",\"$31.00\",\"$66.00\",\"$372.00\",\"$15.00\",\"$6.00\"],\"textposition\":\"outside\",\"x\":[\"Misc\",\"bars_and_restaurants\",\"beer_and_weed\",\"gas\",\"grocery\",\"on_the_go_coffee\",\"take_out\"],\"y\":[1.46,69.52,30.52,65.59,371.5,15.42,6.0],\"type\":\"bar\"}]},{\"data\":[{\"text\":[\"$92.00\",\"$130.00\",\"$63.00\",\"$66.00\",\"$372.00\",\"$15.00\",\"$18.00\"],\"textposition\":\"outside\",\"x\":[\"Misc\",\"bars_and_restaurants\",\"beer_and_weed\",\"gas\",\"grocery\",\"on_the_go_coffee\",\"take_out\"],\"y\":[92.30000000000001,129.78,63.120000000000005,65.59,371.5,15.42,18.46],\"type\":\"bar\"}]},{\"data\":[{\"text\":[\"$112.00\",\"$130.00\",\"$63.00\",\"$69.00\",\"$474.00\",\"$21.00\",\"$18.00\"],\"textposition\":\"outside\",\"x\":[\"Misc\",\"bars_and_restaurants\",\"beer_and_weed\",\"gas\",\"grocery\",\"on_the_go_coffee\",\"take_out\"],\"y\":[112.30000000000001,129.78,63.120000000000005,68.97,474.3,21.06,18.46],\"type\":\"bar\"}]},{\"data\":[{\"text\":[\"$112.00\",\"$181.00\",\"$63.00\",\"$69.00\",\"$549.00\",\"$21.00\",\"$27.00\"],\"textposition\":\"outside\",\"x\":[\"Misc\",\"bars_and_restaurants\",\"beer_and_weed\",\"gas\",\"grocery\",\"on_the_go_coffee\",\"take_out\"],\"y\":[112.30000000000001,180.57,63.120000000000005,68.97,549.4,21.06,27.490000000000002],\"type\":\"bar\"}]},{\"data\":[{\"text\":[\"$112.00\",\"$181.00\",\"$63.00\",\"$69.00\",\"$379.00\",\"$21.00\",\"$27.00\"],\"textposition\":\"outside\",\"x\":[\"Misc\",\"bars_and_restaurants\",\"beer_and_weed\",\"gas\",\"grocery\",\"on_the_go_coffee\",\"take_out\"],\"y\":[112.30000000000001,180.57,63.120000000000005,68.97,379.4,21.06,27.490000000000002],\"type\":\"bar\"}]},{\"data\":[{\"text\":[\"$112.00\",\"$181.00\",\"$63.00\",\"$69.00\",\"$379.00\",\"$21.00\",\"$27.00\"],\"textposition\":\"outside\",\"x\":[\"Misc\",\"bars_and_restaurants\",\"beer_and_weed\",\"gas\",\"grocery\",\"on_the_go_coffee\",\"take_out\"],\"y\":[112.30000000000001,180.57,63.120000000000005,68.97,379.4,21.06,27.490000000000002],\"type\":\"bar\"}]},{\"data\":[{\"text\":[\"$229.00\",\"$181.00\",\"$63.00\",\"$69.00\",\"$260.00\",\"$21.00\",\"$27.00\"],\"textposition\":\"outside\",\"x\":[\"Misc\",\"bars_and_restaurants\",\"beer_and_weed\",\"gas\",\"grocery\",\"on_the_go_coffee\",\"take_out\"],\"y\":[229.3,180.57,63.120000000000005,68.97,260.45,21.06,27.490000000000002],\"type\":\"bar\"}]},{\"data\":[{\"text\":[\"$264.00\",\"$181.00\",\"$63.00\",\"$69.00\",\"$260.00\",\"$21.00\",\"$38.00\"],\"textposition\":\"outside\",\"x\":[\"Misc\",\"bars_and_restaurants\",\"beer_and_weed\",\"gas\",\"grocery\",\"on_the_go_coffee\",\"take_out\"],\"y\":[264.08000000000004,180.57,63.120000000000005,68.97,260.45,21.06,37.63],\"type\":\"bar\"}]},{\"data\":[{\"text\":[\"$284.00\",\"$181.00\",\"$63.00\",\"$69.00\",\"$260.00\",\"$21.00\",\"$51.00\"],\"textposition\":\"outside\",\"x\":[\"Misc\",\"bars_and_restaurants\",\"beer_and_weed\",\"gas\",\"grocery\",\"on_the_go_coffee\",\"take_out\"],\"y\":[284.08000000000004,180.57,63.120000000000005,68.97,260.45,21.06,51.05],\"type\":\"bar\"}]},{\"data\":[{\"text\":[\"$284.00\",\"$181.00\",\"$63.00\",\"$69.00\",\"$260.00\",\"$21.00\",\"$77.00\"],\"textposition\":\"outside\",\"x\":[\"Misc\",\"bars_and_restaurants\",\"beer_and_weed\",\"gas\",\"grocery\",\"on_the_go_coffee\",\"take_out\"],\"y\":[284.08000000000004,180.57,63.120000000000005,68.97,260.45,21.06,76.72],\"type\":\"bar\"}]},{\"data\":[{\"text\":[\"$329.00\",\"$181.00\",\"$63.00\",\"$69.00\",\"$260.00\",\"$21.00\",\"$86.00\"],\"textposition\":\"outside\",\"x\":[\"Misc\",\"bars_and_restaurants\",\"beer_and_weed\",\"gas\",\"grocery\",\"on_the_go_coffee\",\"take_out\"],\"y\":[328.58000000000004,180.57,63.120000000000005,68.97,260.45,21.06,85.58],\"type\":\"bar\"}]},{\"data\":[{\"text\":[\"$329.00\",\"$181.00\",\"$63.00\",\"$69.00\",\"$264.00\",\"$21.00\",\"$86.00\"],\"textposition\":\"outside\",\"x\":[\"Misc\",\"bars_and_restaurants\",\"beer_and_weed\",\"gas\",\"grocery\",\"on_the_go_coffee\",\"take_out\"],\"y\":[328.58000000000004,180.57,63.120000000000005,68.97,264.44,21.06,85.58],\"type\":\"bar\"}]},{\"data\":[{\"text\":[\"$329.00\",\"$181.00\",\"$63.00\",\"$69.00\",\"$264.00\",\"$21.00\",\"$86.00\"],\"textposition\":\"outside\",\"x\":[\"Misc\",\"bars_and_restaurants\",\"beer_and_weed\",\"gas\",\"grocery\",\"on_the_go_coffee\",\"take_out\"],\"y\":[328.58000000000004,180.57,63.120000000000005,68.97,264.44,21.06,85.58],\"type\":\"bar\"}]},{\"data\":[{\"text\":[\"$331.00\",\"$181.00\",\"$63.00\",\"$69.00\",\"$264.00\",\"$21.00\",\"$86.00\"],\"textposition\":\"outside\",\"x\":[\"Misc\",\"bars_and_restaurants\",\"beer_and_weed\",\"gas\",\"grocery\",\"on_the_go_coffee\",\"take_out\"],\"y\":[330.75,180.57,63.120000000000005,68.97,264.44,21.06,85.58],\"type\":\"bar\"}]},{\"data\":[{\"text\":[\"$331.00\",\"$181.00\",\"$63.00\",\"$69.00\",\"$264.00\",\"$21.00\",\"$86.00\"],\"textposition\":\"outside\",\"x\":[\"Misc\",\"bars_and_restaurants\",\"beer_and_weed\",\"gas\",\"grocery\",\"on_the_go_coffee\",\"take_out\"],\"y\":[330.75,180.57,63.120000000000005,68.97,264.44,21.06,85.58],\"type\":\"bar\"}]},{\"data\":[{\"text\":[\"$331.00\",\"$181.00\",\"$63.00\",\"$69.00\",\"$264.00\",\"$21.00\",\"$86.00\"],\"textposition\":\"outside\",\"x\":[\"Misc\",\"bars_and_restaurants\",\"beer_and_weed\",\"gas\",\"grocery\",\"on_the_go_coffee\",\"take_out\"],\"y\":[330.75,180.57,63.120000000000005,68.97,264.44,21.06,85.58],\"type\":\"bar\"}]}]);\n",
       "                        }).then(function(){\n",
       "                            \n",
       "var gd = document.getElementById('6dfec5c3-46c1-40c8-a029-43a40f47caab');\n",
       "var x = new MutationObserver(function (mutations, observer) {{\n",
       "        var display = window.getComputedStyle(gd).display;\n",
       "        if (!display || display === 'none') {{\n",
       "            console.log([gd, 'removed!']);\n",
       "            Plotly.purge(gd);\n",
       "            observer.disconnect();\n",
       "        }}\n",
       "}});\n",
       "\n",
       "// Listen for the removal of the full notebook cells\n",
       "var notebookContainer = gd.closest('#notebook-container');\n",
       "if (notebookContainer) {{\n",
       "    x.observe(notebookContainer, {childList: true});\n",
       "}}\n",
       "\n",
       "// Listen for the clearing of the current output cell\n",
       "var outputEl = gd.closest('.output');\n",
       "if (outputEl) {{\n",
       "    x.observe(outputEl, {childList: true});\n",
       "}}\n",
       "\n",
       "                        })                };                });            </script>        </div>"
      ]
     },
     "metadata": {},
     "output_type": "display_data"
    }
   ],
   "source": [
    "fig = go.Figure(\n",
    "    data=[trace1],\n",
    "    layout=go.Layout(\n",
    "        yaxis=dict(range=[0, ymax], autorange=False, zeroline=False),\n",
    "        title_text=\"Kinematic Generation of a Planar Curve\", hovermode=\"closest\",\n",
    "        updatemenus=[dict(type=\"buttons\",\n",
    "                          buttons=[dict(label=\"Play\",\n",
    "                                        method=\"animate\",\n",
    "                                        args=[None])])]),\n",
    "    frames=frames_test\n",
    ")\n",
    "fig.show()"
   ]
  },
  {
   "cell_type": "code",
   "execution_count": 129,
   "id": "9a256939",
   "metadata": {},
   "outputs": [],
   "source": [
    "# we have a list of frames\n",
    "s = np.linspace(-1, 1, 50)\n",
    "xx = s + s ** 2\n",
    "yy = s - s ** 2\n",
    "\n",
    "frames = []\n",
    "for k in range(50):\n",
    "    frames.append(go.Frame(\n",
    "            data=[\n",
    "                go.Scatter(\n",
    "                x=[xx[k]],\n",
    "                y=[yy[k]],\n",
    "                mode=\"markers\",\n",
    "                marker=dict(color=\"red\", size=10))\n",
    "            ]))\n"
   ]
  },
  {
   "cell_type": "code",
   "execution_count": 117,
   "id": "ef05ef01",
   "metadata": {},
   "outputs": [
    {
     "name": "stdout",
     "output_type": "stream",
     "text": [
      "0\n",
      "1\n",
      "2\n",
      "3\n",
      "4\n",
      "5\n",
      "6\n",
      "7\n",
      "8\n",
      "9\n",
      "10\n",
      "11\n",
      "12\n",
      "13\n",
      "14\n",
      "15\n",
      "16\n",
      "17\n",
      "18\n",
      "19\n",
      "20\n",
      "21\n",
      "22\n",
      "23\n",
      "24\n",
      "25\n",
      "26\n",
      "27\n",
      "28\n",
      "29\n",
      "30\n",
      "31\n"
     ]
    },
    {
     "ename": "NameError",
     "evalue": "name 'N' is not defined",
     "output_type": "error",
     "traceback": [
      "\u001b[1;31m---------------------------------------------------------------------------\u001b[0m",
      "\u001b[1;31mNameError\u001b[0m                                 Traceback (most recent call last)",
      "\u001b[1;32m~\\AppData\\Local\\Temp/ipykernel_5212/155985503.py\u001b[0m in \u001b[0;36m<module>\u001b[1;34m\u001b[0m\n\u001b[0;32m     24\u001b[0m                 marker=dict(color=\"red\", size=10))])\n\u001b[0;32m     25\u001b[0m \u001b[1;33m\u001b[0m\u001b[0m\n\u001b[1;32m---> 26\u001b[1;33m             for k in range(N)]\n\u001b[0m\u001b[0;32m     27\u001b[0m     )\n\u001b[0;32m     28\u001b[0m \u001b[0mfig\u001b[0m\u001b[1;33m.\u001b[0m\u001b[0mupdate_yaxes\u001b[0m\u001b[1;33m(\u001b[0m\u001b[0mtitle\u001b[0m\u001b[1;33m=\u001b[0m\u001b[1;34m'Charges'\u001b[0m\u001b[1;33m)\u001b[0m\u001b[1;33m\u001b[0m\u001b[1;33m\u001b[0m\u001b[0m\n",
      "\u001b[1;31mNameError\u001b[0m: name 'N' is not defined"
     ]
    }
   ],
   "source": [
    "fig.add_trace(trace1)\n",
    "\n",
    "fig.update_layout(title='Visualization of Charges by Category',\n",
    "                  updatemenus=[dict(\n",
    "            type=\"buttons\",\n",
    "            buttons=[dict(label=\"Play\",\n",
    "                          method=\"animate\",\n",
    "                          args=[None])])],\n",
    "                  frames=[go.Frame(\n",
    "            data=[go.Scatter(\n",
    "                x=[xx[k]],\n",
    "                y=[yy[k]],\n",
    "                mode=\"markers\",\n",
    "                marker=dict(color=\"red\", size=10))])\n",
    "\n",
    "            for k in range(N)]\n",
    "    )\n",
    "fig.update_yaxes(title='Charges')\n",
    "fig.show()"
   ]
  },
  {
   "cell_type": "code",
   "execution_count": null,
   "id": "80c7fd2c",
   "metadata": {},
   "outputs": [],
   "source": []
  },
  {
   "cell_type": "code",
   "execution_count": null,
   "id": "1d2bcd7f",
   "metadata": {},
   "outputs": [],
   "source": []
  },
  {
   "cell_type": "code",
   "execution_count": null,
   "id": "dfa829a7",
   "metadata": {},
   "outputs": [],
   "source": []
  },
  {
   "cell_type": "code",
   "execution_count": null,
   "id": "7540663b",
   "metadata": {},
   "outputs": [],
   "source": []
  },
  {
   "cell_type": "code",
   "execution_count": null,
   "id": "fb613782",
   "metadata": {},
   "outputs": [],
   "source": []
  },
  {
   "cell_type": "code",
   "execution_count": null,
   "id": "a4a40cdd",
   "metadata": {},
   "outputs": [],
   "source": []
  },
  {
   "cell_type": "code",
   "execution_count": null,
   "id": "d1d70cff",
   "metadata": {},
   "outputs": [],
   "source": []
  }
 ],
 "metadata": {
  "kernelspec": {
   "display_name": "Python 3 (ipykernel)",
   "language": "python",
   "name": "python3"
  },
  "language_info": {
   "codemirror_mode": {
    "name": "ipython",
    "version": 3
   },
   "file_extension": ".py",
   "mimetype": "text/x-python",
   "name": "python",
   "nbconvert_exporter": "python",
   "pygments_lexer": "ipython3",
   "version": "3.9.7"
  }
 },
 "nbformat": 4,
 "nbformat_minor": 5
}
